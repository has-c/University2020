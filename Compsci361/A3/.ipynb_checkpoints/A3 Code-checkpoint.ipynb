{
 "cells": [
  {
   "cell_type": "code",
   "execution_count": 1,
   "metadata": {},
   "outputs": [],
   "source": [
    "import pandas as pd\n",
    "import numpy as np\n",
    "from mlxtend.preprocessing import TransactionEncoder\n",
    "from mlxtend.frequent_patterns import fpgrowth\n",
    "from mlxtend.frequent_patterns import apriori\n",
    "from mlxtend.frequent_patterns import association_rules"
   ]
  },
  {
   "cell_type": "code",
   "execution_count": 21,
   "metadata": {},
   "outputs": [],
   "source": [
    "def algorithm(df, min_sup,min_lift):\n",
    "    #generate itemsets\n",
    "    frequent_itemsets = fpgrowth(df, min_support=min_sup, use_colnames=True) \n",
    "\n",
    "    #generate rules\n",
    "    rules = association_rules(frequent_itemsets, metric=\"lift\", min_threshold=min_lift)\n",
    "    \n",
    "    print(rules.shape)\n",
    "    \n",
    "    return rules"
   ]
  },
  {
   "cell_type": "markdown",
   "metadata": {},
   "source": [
    "### Preprocessing"
   ]
  },
  {
   "cell_type": "code",
   "execution_count": 3,
   "metadata": {},
   "outputs": [],
   "source": [
    "#transactions have unequal lengths - the max length transaction is 49\n",
    "rawDf = pd.read_csv(\"supermarket.csv\", header=None, names = list(range(0,49)))\n",
    "\n",
    "#remove nan rows and create a list of lists \n",
    "dataset = [rawDf.loc[rowIndex].dropna().tolist() for rowIndex in rawDf.index]\n",
    "\n",
    "#create transaction encoder to encode the dataset in the correct format\n",
    "te = TransactionEncoder()\n",
    "te_ary = te.fit(dataset).transform(dataset)\n",
    "df = pd.DataFrame(te_ary, columns=te.columns_)"
   ]
  },
  {
   "cell_type": "markdown",
   "metadata": {},
   "source": [
    "### FP Tree and FP Growth"
   ]
  },
  {
   "cell_type": "code",
   "execution_count": 28,
   "metadata": {},
   "outputs": [
    {
     "name": "stdout",
     "output_type": "stream",
     "text": [
      "(882, 9)\n",
      "(882, 9)\n",
      "(882, 9)\n",
      "(882, 9)\n",
      "(882, 9)\n",
      "(882, 9)\n",
      "(882, 9)\n",
      "(882, 9)\n",
      "(882, 9)\n",
      "(882, 9)\n",
      "2.38 s ± 0 ns per loop (mean ± std. dev. of 1 run, 10 loops each)\n"
     ]
    }
   ],
   "source": [
    "#timing \n",
    "%timeit -n 10 -r 1 algorithm(df,0.1 ,2.2)"
   ]
  },
  {
   "cell_type": "code",
   "execution_count": 44,
   "metadata": {},
   "outputs": [
    {
     "name": "stdout",
     "output_type": "stream",
     "text": [
      "(6162, 9)\n"
     ]
    }
   ],
   "source": [
    "min_sup = 0.1\n",
    "min_lift = 2\n",
    "\n",
    "rules = algorithm(df,min_sup ,min_lift)\n",
    "\n",
    "rules = rules[rules['confidence'] > 0.6]"
   ]
  },
  {
   "cell_type": "code",
   "execution_count": 45,
   "metadata": {},
   "outputs": [],
   "source": [
    "rules.to_excel(\"rulesV3.xlsx\")"
   ]
  },
  {
   "cell_type": "code",
   "execution_count": null,
   "metadata": {},
   "outputs": [],
   "source": []
  },
  {
   "cell_type": "code",
   "execution_count": null,
   "metadata": {},
   "outputs": [],
   "source": []
  },
  {
   "cell_type": "code",
   "execution_count": null,
   "metadata": {},
   "outputs": [],
   "source": []
  }
 ],
 "metadata": {
  "kernelspec": {
   "display_name": "Python 3",
   "language": "python",
   "name": "python3"
  },
  "language_info": {
   "codemirror_mode": {
    "name": "ipython",
    "version": 3
   },
   "file_extension": ".py",
   "mimetype": "text/x-python",
   "name": "python",
   "nbconvert_exporter": "python",
   "pygments_lexer": "ipython3",
   "version": "3.8.2"
  }
 },
 "nbformat": 4,
 "nbformat_minor": 4
}
