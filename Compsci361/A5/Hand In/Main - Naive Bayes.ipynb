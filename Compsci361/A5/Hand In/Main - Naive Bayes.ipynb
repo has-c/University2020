{
 "cells": [
  {
   "cell_type": "code",
   "execution_count": 1,
   "metadata": {},
   "outputs": [],
   "source": [
    "from naive_bayes import priors,likelihood,predict\n",
    "import numpy as np\n",
    "from preprocessing import preprocess_abstracts\n",
    "from transformations import features_count_transform,feature_occurance_transform\n",
    "from naive_bayes import priors,likelihood,predict"
   ]
  },
  {
   "cell_type": "code",
   "execution_count": 2,
   "metadata": {},
   "outputs": [],
   "source": [
    "def BayesClassifier(labels_train,features_train,features_test):\n",
    "\n",
    "    #preprocess features\n",
    "    training_words,features_train = preprocess_abstracts(features_train)\n",
    "    test_words, features_test = preprocess_abstracts(features_test)\n",
    "\n",
    "    all_words = [word for word in training_words if word in test_words]\n",
    "\n",
    "    #label encoder - for both train and test set\n",
    "    unique_labels = list(np.unique(labels_train))\n",
    "    integer_labels = list(np.arange(0,len(unique_labels)))\n",
    "    labels_train = np.array([integer_labels[unique_labels.index(label)] for label in labels_train])\n",
    "\n",
    "    features_train = features_count_transform(all_words, features_train)\n",
    "    features_test = features_count_transform(all_words, features_test)\n",
    "\n",
    "    #IDF: convert counts to idf weights\n",
    "    weights,word_occurances = feature_occurance_transform(features_train)\n",
    "    \n",
    "    #calculate priors \n",
    "    class_prior,occurance_class_groups,instance_class_groups = priors(labels_train,features_train,word_occurances)\n",
    "    \n",
    "    #calculate likelihood\n",
    "    weight_conditional_prob = likelihood(instance_class_groups,occurance_class_groups,weights)\n",
    "    \n",
    "    #predict\n",
    "    pred = predict(features_test,weight_conditional_prob,class_prior)\n",
    "    \n",
    "    return pred"
   ]
  },
  {
   "cell_type": "markdown",
   "metadata": {},
   "source": [
    "## Main - Predict unlabelled set"
   ]
  },
  {
   "cell_type": "code",
   "execution_count": 3,
   "metadata": {},
   "outputs": [],
   "source": [
    "#import data and split into features/labels\n",
    "data = np.genfromtxt('trg.csv', delimiter=',',dtype=str)\n",
    "labels_train = data[1:, 1]\n",
    "features_train = data[1:,2]\n",
    "features_test = np.genfromtxt('tst.csv', delimiter=',',dtype=str)[1:,1]"
   ]
  },
  {
   "cell_type": "code",
   "execution_count": 4,
   "metadata": {},
   "outputs": [],
   "source": [
    "#predict\n",
    "predictions = BayesClassifier(labels_train,features_train,features_test)\n",
    "\n",
    "#convert predictions from integer labels to class labels again\n",
    "unique_labels = list(np.unique(labels_train))\n",
    "integer_labels = list(np.arange(0,len(unique_labels)))\n",
    "predictions = [unique_labels[integer_labels.index(pred)] for pred in predictions]"
   ]
  },
  {
   "cell_type": "markdown",
   "metadata": {},
   "source": [
    "## Main - Model Selection"
   ]
  },
  {
   "cell_type": "code",
   "execution_count": 87,
   "metadata": {},
   "outputs": [],
   "source": [
    "#import data and split into features/labels\n",
    "data = np.genfromtxt('trg.csv', delimiter=',',dtype=str)\n",
    "labels = data[1:, 1]\n",
    "features = data[1:,2]"
   ]
  },
  {
   "cell_type": "code",
   "execution_count": null,
   "metadata": {},
   "outputs": [
    {
     "name": "stdout",
     "output_type": "stream",
     "text": [
      "Iteration  0\n"
     ]
    }
   ],
   "source": [
    "#setup cross validation\n",
    "no_of_folds = 10\n",
    "test_size = features.shape[0]//no_of_folds\n",
    "idx = np.arange(0,features.shape[0])\n",
    "np.random.shuffle(idx)\n",
    "\n",
    "acc_cv=list()\n",
    "for k in range(0,no_of_folds):\n",
    "    \n",
    "    print('Iteration ', k)\n",
    "    #extract the correct cross-validation subset\n",
    "    test_idx = idx[k*test_size:(k+1)*test_size]\n",
    "    train_idx = np.append(idx[:k*test_size],idx[(k+1)*test_size:])\n",
    "    \n",
    "    features_train = features[train_idx]\n",
    "    features_test = features[test_idx]\n",
    "    labels_train = labels[train_idx]\n",
    "    labels_test = labels[test_idx]\n",
    "    \n",
    "    #label encoder - encode labels as integer\n",
    "    unique_labels = list(np.unique(labels_train))\n",
    "    integer_labels = list(np.arange(0,len(unique_labels)))\n",
    "    labels_train = np.array([integer_labels[unique_labels.index(label)] for label in labels_train])\n",
    "    labels_test = np.array([integer_labels[unique_labels.index(label)] for label in labels_test])\n",
    "    \n",
    "    #predict\n",
    "    predictions = BayesClassifier(labels_train,features_train,features_test)\n",
    "    \n",
    "    #accuracy\n",
    "    acc = np.sum(np.array(predictions) == labels_test)/labels_test.shape[0]\n",
    "    acc_cv.append(acc)\n",
    "    \n",
    "np.mean(acc_cv)    "
   ]
  },
  {
   "cell_type": "code",
   "execution_count": null,
   "metadata": {},
   "outputs": [],
   "source": []
  },
  {
   "cell_type": "code",
   "execution_count": null,
   "metadata": {},
   "outputs": [],
   "source": []
  }
 ],
 "metadata": {
  "kernelspec": {
   "display_name": "Python 3",
   "language": "python",
   "name": "python3"
  },
  "language_info": {
   "codemirror_mode": {
    "name": "ipython",
    "version": 3
   },
   "file_extension": ".py",
   "mimetype": "text/x-python",
   "name": "python",
   "nbconvert_exporter": "python",
   "pygments_lexer": "ipython3",
   "version": "3.6.7"
  }
 },
 "nbformat": 4,
 "nbformat_minor": 2
}
