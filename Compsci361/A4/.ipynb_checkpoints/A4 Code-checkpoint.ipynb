{
 "cells": [
  {
   "cell_type": "code",
   "execution_count": 264,
   "metadata": {},
   "outputs": [],
   "source": [
    "import pandas as pd\n",
    "from sklearn.naive_bayes import GaussianNB\n",
    "from sklearn.model_selection import train_test_split\n",
    "from sklearn.model_selection import cross_val_score\n",
    "import numpy as np\n",
    "from sklearn.impute import SimpleImputer, KNNImputer\n",
    "from sklearn.metrics import accuracy_score \n",
    "from sklearn.preprocessing import MinMaxScaler\n",
    "from ReliefF import ReliefF\n",
    "from sklearn.feature_selection import VarianceThreshold"
   ]
  },
  {
   "cell_type": "code",
   "execution_count": 265,
   "metadata": {},
   "outputs": [
    {
     "name": "stdout",
     "output_type": "stream",
     "text": [
      "(1085, 3121)\n"
     ]
    }
   ],
   "source": [
    "df = pd.read_csv(\"data.csv\", header=None)\n",
    "print(df.shape)\n",
    "\n",
    "labels = df[3120]\n",
    "features = df.drop(3120, axis=1)"
   ]
  },
  {
   "cell_type": "markdown",
   "metadata": {},
   "source": [
    "### Idiot Classifier"
   ]
  },
  {
   "cell_type": "code",
   "execution_count": 247,
   "metadata": {},
   "outputs": [
    {
     "name": "stdout",
     "output_type": "stream",
     "text": [
      "0.34654377880184334\n",
      "0.6534562211981567\n"
     ]
    }
   ],
   "source": [
    "#class balance\n",
    "print((np.sum(labels == 1))/labels.size)\n",
    "print((np.sum(labels == 0))/labels.size)"
   ]
  },
  {
   "cell_type": "markdown",
   "metadata": {},
   "source": [
    "### 1. Drop any NA rows"
   ]
  },
  {
   "cell_type": "code",
   "execution_count": 248,
   "metadata": {},
   "outputs": [
    {
     "data": {
      "text/plain": [
       "(0, 3121)"
      ]
     },
     "execution_count": 248,
     "metadata": {},
     "output_type": "execute_result"
    }
   ],
   "source": [
    "method1Df = df.dropna()\n",
    "method1Df.shape"
   ]
  },
  {
   "cell_type": "markdown",
   "metadata": {},
   "source": [
    "All rows are missing atleast one value"
   ]
  },
  {
   "cell_type": "markdown",
   "metadata": {},
   "source": [
    "### 2. Simple Imputation - Mean of column"
   ]
  },
  {
   "cell_type": "code",
   "execution_count": 266,
   "metadata": {},
   "outputs": [
    {
     "name": "stdout",
     "output_type": "stream",
     "text": [
      "(759, 3120)\n",
      "(326, 3120)\n"
     ]
    }
   ],
   "source": [
    "#split to make sure no data leakages\n",
    "labelsTrain, labelsTest, featuresTrain, featuresTest = train_test_split(labels,features,test_size=0.3, random_state=42)\n",
    "print(featuresTrain.shape)\n",
    "print(featuresTest.shape)"
   ]
  },
  {
   "cell_type": "code",
   "execution_count": 295,
   "metadata": {},
   "outputs": [],
   "source": [
    "#impute using simple impute - imputes one column at a time\n",
    "imp = SimpleImputer(missing_values=np.nan, strategy='mean')\n",
    "featuresTrainImputed = imp.fit_transform(featuresTrain)\n",
    "featuresTestImputed = imp.transform(featuresTest)"
   ]
  },
  {
   "cell_type": "code",
   "execution_count": 296,
   "metadata": {},
   "outputs": [
    {
     "name": "stdout",
     "output_type": "stream",
     "text": [
      "0.6932515337423313\n"
     ]
    }
   ],
   "source": [
    "#alot of attritubes very little instances need to reduce - run baseline to get performance \n",
    "clf = GaussianNB()\n",
    "clf.fit(featuresTrainImputed, labelsTrain)\n",
    "predictions = clf.predict(featuresTestImputed)\n",
    "acc = accuracy_score(labelsTest,predictions)\n",
    "print(acc)"
   ]
  },
  {
   "cell_type": "markdown",
   "metadata": {},
   "source": [
    "### 3. Normalisation using StandardScaler"
   ]
  },
  {
   "cell_type": "code",
   "execution_count": 297,
   "metadata": {},
   "outputs": [],
   "source": [
    "scaler = MinMaxScaler()\n",
    "featuresTrainScaled = scaler.fit_transform(featuresTrainImputed)\n",
    "featuresTestScaled = scaler.transform(featuresTestImputed)"
   ]
  },
  {
   "cell_type": "code",
   "execution_count": 298,
   "metadata": {},
   "outputs": [
    {
     "name": "stdout",
     "output_type": "stream",
     "text": [
      "0.6993865030674846\n"
     ]
    }
   ],
   "source": [
    "#alot of attritubes very little instances need to reduce - run baseline to get performance \n",
    "clf = GaussianNB()\n",
    "clf.fit(featuresTrainScaled, labelsTrain)\n",
    "predictions = clf.predict(featuresTestScaled)\n",
    "acc = accuracy_score(labelsTest,predictions)\n",
    "print(acc)"
   ]
  },
  {
   "cell_type": "markdown",
   "metadata": {},
   "source": [
    "### 4. Remove low variance features"
   ]
  },
  {
   "cell_type": "code",
   "execution_count": 299,
   "metadata": {},
   "outputs": [],
   "source": [
    "sel = VarianceThreshold(threshold=0.05)\n",
    "featuresTrainVarianceAdjusted = sel.fit_transform(featuresTrainScaled)\n",
    "featuresTestVarianceAdjusted = sel.transform(featuresTestScaled)"
   ]
  },
  {
   "cell_type": "code",
   "execution_count": 300,
   "metadata": {},
   "outputs": [
    {
     "name": "stdout",
     "output_type": "stream",
     "text": [
      "0.6779141104294478\n"
     ]
    }
   ],
   "source": [
    "#alot of attritubes very little instances need to reduce - run baseline to get performance \n",
    "clf = GaussianNB()\n",
    "clf.fit(featuresTrainVarianceAdjusted, labelsTrain)\n",
    "predictions = clf.predict(featuresTestVarianceAdjusted)\n",
    "acc = accuracy_score(labelsTest,predictions)\n",
    "print(acc)"
   ]
  },
  {
   "cell_type": "markdown",
   "metadata": {},
   "source": [
    "### 5. Class imbalance"
   ]
  },
  {
   "cell_type": "code",
   "execution_count": null,
   "metadata": {},
   "outputs": [],
   "source": []
  },
  {
   "cell_type": "code",
   "execution_count": null,
   "metadata": {},
   "outputs": [],
   "source": []
  },
  {
   "cell_type": "markdown",
   "metadata": {},
   "source": [
    "### Feature Selection - using ReliefF"
   ]
  },
  {
   "cell_type": "code",
   "execution_count": 210,
   "metadata": {},
   "outputs": [],
   "source": [
    "featuresToKeep = 500\n",
    "fs = ReliefF(n_neighbors=20, n_features_to_keep=featuresToKeep)"
   ]
  },
  {
   "cell_type": "code",
   "execution_count": 211,
   "metadata": {},
   "outputs": [],
   "source": [
    "reducedFeaturesTrain = fs.fit_transform(featuresTrain, labelsTrain.values)"
   ]
  },
  {
   "cell_type": "code",
   "execution_count": 212,
   "metadata": {},
   "outputs": [],
   "source": [
    "#extract best features\n",
    "reducedFeaturesTest = featuresTest[:,fs.top_features][:,:featuresToKeep] "
   ]
  },
  {
   "cell_type": "code",
   "execution_count": 213,
   "metadata": {},
   "outputs": [
    {
     "name": "stdout",
     "output_type": "stream",
     "text": [
      "0.6319018404907976\n"
     ]
    }
   ],
   "source": [
    "clf = GaussianNB()\n",
    "clf.fit(reducedFeaturesTrain, labelsTrain)\n",
    "predictions = clf.predict(reducedFeaturesTest)\n",
    "acc = accuracy_score(labelsTest,predictions)\n",
    "print(acc)"
   ]
  },
  {
   "cell_type": "code",
   "execution_count": null,
   "metadata": {},
   "outputs": [],
   "source": []
  },
  {
   "cell_type": "code",
   "execution_count": null,
   "metadata": {},
   "outputs": [],
   "source": []
  }
 ],
 "metadata": {
  "kernelspec": {
   "display_name": "Python 3",
   "language": "python",
   "name": "python3"
  },
  "language_info": {
   "codemirror_mode": {
    "name": "ipython",
    "version": 3
   },
   "file_extension": ".py",
   "mimetype": "text/x-python",
   "name": "python",
   "nbconvert_exporter": "python",
   "pygments_lexer": "ipython3",
   "version": "3.8.2"
  }
 },
 "nbformat": 4,
 "nbformat_minor": 4
}
