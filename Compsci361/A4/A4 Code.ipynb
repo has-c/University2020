{
 "cells": [
  {
   "cell_type": "code",
   "execution_count": 1,
   "metadata": {},
   "outputs": [],
   "source": [
    "import pandas as pd\n",
    "from sklearn.naive_bayes import GaussianNB\n",
    "from sklearn.model_selection import train_test_split\n",
    "from sklearn.model_selection import cross_val_score\n",
    "import numpy as np\n",
    "from sklearn.metrics import accuracy_score \n",
    "from sklearn.preprocessing import MinMaxScaler, StandardScaler\n",
    "from ReliefF import ReliefF\n",
    "from sklearn.feature_selection import VarianceThreshold\n",
    "from sklearn.feature_selection import RFECV\n",
    "from sklearn import tree"
   ]
  },
  {
   "cell_type": "markdown",
   "metadata": {},
   "source": [
    "### Helper function"
   ]
  },
  {
   "cell_type": "code",
   "execution_count": 2,
   "metadata": {},
   "outputs": [],
   "source": [
    "def runNB(featuresTrain, labelsTrain, featuresTest, labelsTest):    \n",
    "    clf = GaussianNB()\n",
    "    clf.fit(featuresTrain, labelsTrain)\n",
    "    predictions = clf.predict(featuresTest)\n",
    "    acc = accuracy_score(labelsTest,predictions)\n",
    "    print(acc)"
   ]
  },
  {
   "cell_type": "code",
   "execution_count": 3,
   "metadata": {},
   "outputs": [],
   "source": [
    "def meanOrMode(x):\n",
    "    if x.dtype == 'object':\n",
    "        return x.mode()\n",
    "    else:\n",
    "        return x.mean()"
   ]
  },
  {
   "cell_type": "markdown",
   "metadata": {},
   "source": [
    "## Main"
   ]
  },
  {
   "cell_type": "code",
   "execution_count": 141,
   "metadata": {},
   "outputs": [],
   "source": [
    "df = pd.read_csv(\"data.csv\", header=None)\n",
    "\n",
    "labels = df[3120]\n",
    "features = df.drop(3120, axis=1)"
   ]
  },
  {
   "cell_type": "markdown",
   "metadata": {},
   "source": [
    "### Idiot Classifier"
   ]
  },
  {
   "cell_type": "code",
   "execution_count": 247,
   "metadata": {},
   "outputs": [
    {
     "name": "stdout",
     "output_type": "stream",
     "text": [
      "0.34654377880184334\n",
      "0.6534562211981567\n"
     ]
    }
   ],
   "source": [
    "#class balance\n",
    "print((np.sum(labels == 1))/labels.size)\n",
    "print((np.sum(labels == 0))/labels.size)"
   ]
  },
  {
   "cell_type": "markdown",
   "metadata": {},
   "source": [
    "## Imputation"
   ]
  },
  {
   "cell_type": "markdown",
   "metadata": {},
   "source": [
    "### 2. Impute - Class mean"
   ]
  },
  {
   "cell_type": "code",
   "execution_count": 142,
   "metadata": {},
   "outputs": [],
   "source": [
    "imputedDf = pd.DataFrame()\n",
    "for label in labels.unique():\n",
    "    tempDf = features[labels==label].apply(lambda x: x.fillna(meanOrMode(x)), axis=0)\n",
    "    imputedDf = pd.concat([imputedDf,tempDf], axis=0)\n",
    "    \n",
    "imputedDf = imputedDf.sort_index()"
   ]
  },
  {
   "cell_type": "code",
   "execution_count": 143,
   "metadata": {},
   "outputs": [],
   "source": [
    "labelsTrain, labelsTest, featuresTrain, featuresTest = train_test_split(labels,imputedDf,test_size=0.3, random_state=42)"
   ]
  },
  {
   "cell_type": "code",
   "execution_count": 144,
   "metadata": {},
   "outputs": [
    {
     "name": "stdout",
     "output_type": "stream",
     "text": [
      "0.6993865030674846\n"
     ]
    }
   ],
   "source": [
    "runNB(featuresTrain, labelsTrain, featuresTest, labelsTest)"
   ]
  },
  {
   "cell_type": "markdown",
   "metadata": {},
   "source": [
    "### 3. Normalisation using MinMaxScaler"
   ]
  },
  {
   "cell_type": "code",
   "execution_count": 145,
   "metadata": {},
   "outputs": [],
   "source": [
    "scaler = MinMaxScaler()\n",
    "featuresTrainScaled = scaler.fit_transform(featuresTrain)\n",
    "featuresTestScaled = scaler.transform(featuresTest)"
   ]
  },
  {
   "cell_type": "code",
   "execution_count": 146,
   "metadata": {},
   "outputs": [
    {
     "name": "stdout",
     "output_type": "stream",
     "text": [
      "0.7147239263803681\n"
     ]
    }
   ],
   "source": [
    "runNB(featuresTrainScaled, labelsTrain, featuresTestScaled, labelsTest)"
   ]
  },
  {
   "cell_type": "markdown",
   "metadata": {},
   "source": [
    "### 4. Recursive Feature Elimination"
   ]
  },
  {
   "cell_type": "code",
   "execution_count": 147,
   "metadata": {},
   "outputs": [],
   "source": [
    "clf = tree.DecisionTreeClassifier()\n",
    "selector = RFECV(clf, step=0.1, cv=10, n_jobs=-1)\n",
    "featuresTrainReduced = selector.fit_transform(featuresTrainScaled, labelsTrain)\n",
    "featuresTestReduced = selector.transform(featuresTestScaled)"
   ]
  },
  {
   "cell_type": "code",
   "execution_count": 148,
   "metadata": {},
   "outputs": [
    {
     "data": {
      "text/plain": [
       "(326, 1248)"
      ]
     },
     "execution_count": 148,
     "metadata": {},
     "output_type": "execute_result"
    }
   ],
   "source": [
    "featuresTestReduced.shape"
   ]
  },
  {
   "cell_type": "code",
   "execution_count": 149,
   "metadata": {},
   "outputs": [
    {
     "name": "stdout",
     "output_type": "stream",
     "text": [
      "0.7760736196319018\n"
     ]
    }
   ],
   "source": [
    "runNB(featuresTrainReduced, labelsTrain, featuresTestReduced, labelsTest)"
   ]
  },
  {
   "cell_type": "markdown",
   "metadata": {},
   "source": [
    "### Feature Selection - using ReliefF"
   ]
  },
  {
   "cell_type": "code",
   "execution_count": 160,
   "metadata": {},
   "outputs": [],
   "source": [
    "featuresToKeep = 100\n",
    "fs = ReliefF(n_neighbors=20, n_features_to_keep=featuresToKeep)"
   ]
  },
  {
   "cell_type": "code",
   "execution_count": 161,
   "metadata": {},
   "outputs": [],
   "source": [
    "reducedFeaturesTrain = fs.fit_transform(featuresTrainReduced, labelsTrain.values)"
   ]
  },
  {
   "cell_type": "code",
   "execution_count": 162,
   "metadata": {},
   "outputs": [],
   "source": [
    "#extract best features\n",
    "reducedFeaturesTest = fs.transform(featuresTestReduced)"
   ]
  },
  {
   "cell_type": "code",
   "execution_count": 163,
   "metadata": {},
   "outputs": [
    {
     "name": "stdout",
     "output_type": "stream",
     "text": [
      "0.9386503067484663\n"
     ]
    }
   ],
   "source": [
    "runNB(reducedFeaturesTrain, labelsTrain, reducedFeaturesTest, labelsTest)"
   ]
  },
  {
   "cell_type": "markdown",
   "metadata": {},
   "source": [
    "### Top 5 Features"
   ]
  },
  {
   "cell_type": "code",
   "execution_count": 181,
   "metadata": {},
   "outputs": [
    {
     "data": {
      "text/html": [
       "<div>\n",
       "<style scoped>\n",
       "    .dataframe tbody tr th:only-of-type {\n",
       "        vertical-align: middle;\n",
       "    }\n",
       "\n",
       "    .dataframe tbody tr th {\n",
       "        vertical-align: top;\n",
       "    }\n",
       "\n",
       "    .dataframe thead th {\n",
       "        text-align: right;\n",
       "    }\n",
       "</style>\n",
       "<table border=\"1\" class=\"dataframe\">\n",
       "  <thead>\n",
       "    <tr style=\"text-align: right;\">\n",
       "      <th></th>\n",
       "      <th>1148</th>\n",
       "      <th>1178</th>\n",
       "      <th>303</th>\n",
       "      <th>713</th>\n",
       "      <th>693</th>\n",
       "      <th>1177</th>\n",
       "      <th>712</th>\n",
       "      <th>1147</th>\n",
       "      <th>692</th>\n",
       "      <th>302</th>\n",
       "      <th>...</th>\n",
       "      <th>244</th>\n",
       "      <th>164</th>\n",
       "      <th>724</th>\n",
       "      <th>414</th>\n",
       "      <th>799</th>\n",
       "      <th>664</th>\n",
       "      <th>949</th>\n",
       "      <th>1009</th>\n",
       "      <th>144</th>\n",
       "      <th>54</th>\n",
       "    </tr>\n",
       "  </thead>\n",
       "  <tbody>\n",
       "    <tr>\n",
       "      <th>0</th>\n",
       "      <td>0.180801</td>\n",
       "      <td>0.358771</td>\n",
       "      <td>0.527640</td>\n",
       "      <td>0.282962</td>\n",
       "      <td>0.302648</td>\n",
       "      <td>0.388143</td>\n",
       "      <td>0.288655</td>\n",
       "      <td>0.180084</td>\n",
       "      <td>0.311655</td>\n",
       "      <td>0.543096</td>\n",
       "      <td>...</td>\n",
       "      <td>0.396522</td>\n",
       "      <td>0.883553</td>\n",
       "      <td>0.546681</td>\n",
       "      <td>0.196126</td>\n",
       "      <td>0.182257</td>\n",
       "      <td>0.614470</td>\n",
       "      <td>0.255813</td>\n",
       "      <td>0.487738</td>\n",
       "      <td>0.589567</td>\n",
       "      <td>0.045295</td>\n",
       "    </tr>\n",
       "    <tr>\n",
       "      <th>1</th>\n",
       "      <td>0.180801</td>\n",
       "      <td>0.358771</td>\n",
       "      <td>0.527640</td>\n",
       "      <td>0.282962</td>\n",
       "      <td>0.302648</td>\n",
       "      <td>0.388143</td>\n",
       "      <td>0.288655</td>\n",
       "      <td>0.180084</td>\n",
       "      <td>0.311655</td>\n",
       "      <td>0.543096</td>\n",
       "      <td>...</td>\n",
       "      <td>0.178842</td>\n",
       "      <td>0.155559</td>\n",
       "      <td>0.122775</td>\n",
       "      <td>0.158051</td>\n",
       "      <td>0.851660</td>\n",
       "      <td>0.598413</td>\n",
       "      <td>0.105225</td>\n",
       "      <td>0.403876</td>\n",
       "      <td>0.524496</td>\n",
       "      <td>0.866622</td>\n",
       "    </tr>\n",
       "    <tr>\n",
       "      <th>2</th>\n",
       "      <td>0.057432</td>\n",
       "      <td>0.440684</td>\n",
       "      <td>0.550914</td>\n",
       "      <td>0.217817</td>\n",
       "      <td>0.156841</td>\n",
       "      <td>0.277338</td>\n",
       "      <td>0.133664</td>\n",
       "      <td>0.146919</td>\n",
       "      <td>0.247760</td>\n",
       "      <td>0.819526</td>\n",
       "      <td>...</td>\n",
       "      <td>0.265566</td>\n",
       "      <td>0.280168</td>\n",
       "      <td>0.069191</td>\n",
       "      <td>0.062438</td>\n",
       "      <td>0.165734</td>\n",
       "      <td>0.415687</td>\n",
       "      <td>0.441714</td>\n",
       "      <td>0.380846</td>\n",
       "      <td>0.192838</td>\n",
       "      <td>0.845130</td>\n",
       "    </tr>\n",
       "    <tr>\n",
       "      <th>3</th>\n",
       "      <td>0.618699</td>\n",
       "      <td>0.493165</td>\n",
       "      <td>0.385806</td>\n",
       "      <td>0.492996</td>\n",
       "      <td>0.432608</td>\n",
       "      <td>0.534052</td>\n",
       "      <td>0.491678</td>\n",
       "      <td>0.604108</td>\n",
       "      <td>0.473886</td>\n",
       "      <td>0.390886</td>\n",
       "      <td>...</td>\n",
       "      <td>0.800694</td>\n",
       "      <td>0.867029</td>\n",
       "      <td>0.442132</td>\n",
       "      <td>0.311441</td>\n",
       "      <td>0.177214</td>\n",
       "      <td>0.308868</td>\n",
       "      <td>0.446441</td>\n",
       "      <td>0.310418</td>\n",
       "      <td>0.703393</td>\n",
       "      <td>0.025908</td>\n",
       "    </tr>\n",
       "    <tr>\n",
       "      <th>4</th>\n",
       "      <td>0.180801</td>\n",
       "      <td>0.358771</td>\n",
       "      <td>0.527640</td>\n",
       "      <td>0.282962</td>\n",
       "      <td>0.302648</td>\n",
       "      <td>0.388143</td>\n",
       "      <td>0.288655</td>\n",
       "      <td>0.180084</td>\n",
       "      <td>0.311655</td>\n",
       "      <td>0.543096</td>\n",
       "      <td>...</td>\n",
       "      <td>0.655879</td>\n",
       "      <td>0.891801</td>\n",
       "      <td>0.489394</td>\n",
       "      <td>0.279762</td>\n",
       "      <td>0.135927</td>\n",
       "      <td>0.414494</td>\n",
       "      <td>0.180550</td>\n",
       "      <td>0.494330</td>\n",
       "      <td>0.688114</td>\n",
       "      <td>0.050136</td>\n",
       "    </tr>\n",
       "    <tr>\n",
       "      <th>...</th>\n",
       "      <td>...</td>\n",
       "      <td>...</td>\n",
       "      <td>...</td>\n",
       "      <td>...</td>\n",
       "      <td>...</td>\n",
       "      <td>...</td>\n",
       "      <td>...</td>\n",
       "      <td>...</td>\n",
       "      <td>...</td>\n",
       "      <td>...</td>\n",
       "      <td>...</td>\n",
       "      <td>...</td>\n",
       "      <td>...</td>\n",
       "      <td>...</td>\n",
       "      <td>...</td>\n",
       "      <td>...</td>\n",
       "      <td>...</td>\n",
       "      <td>...</td>\n",
       "      <td>...</td>\n",
       "      <td>...</td>\n",
       "      <td>...</td>\n",
       "    </tr>\n",
       "    <tr>\n",
       "      <th>754</th>\n",
       "      <td>0.922221</td>\n",
       "      <td>0.814669</td>\n",
       "      <td>0.414147</td>\n",
       "      <td>0.497143</td>\n",
       "      <td>0.637205</td>\n",
       "      <td>0.484904</td>\n",
       "      <td>0.518048</td>\n",
       "      <td>0.784261</td>\n",
       "      <td>0.553191</td>\n",
       "      <td>0.686778</td>\n",
       "      <td>...</td>\n",
       "      <td>0.161839</td>\n",
       "      <td>0.155416</td>\n",
       "      <td>0.506176</td>\n",
       "      <td>0.739155</td>\n",
       "      <td>0.569086</td>\n",
       "      <td>0.287075</td>\n",
       "      <td>0.292170</td>\n",
       "      <td>0.579183</td>\n",
       "      <td>0.611233</td>\n",
       "      <td>0.861116</td>\n",
       "    </tr>\n",
       "    <tr>\n",
       "      <th>755</th>\n",
       "      <td>0.801897</td>\n",
       "      <td>0.235689</td>\n",
       "      <td>0.333711</td>\n",
       "      <td>0.386360</td>\n",
       "      <td>0.616213</td>\n",
       "      <td>0.042335</td>\n",
       "      <td>0.594147</td>\n",
       "      <td>0.946161</td>\n",
       "      <td>0.448090</td>\n",
       "      <td>0.643750</td>\n",
       "      <td>...</td>\n",
       "      <td>0.204138</td>\n",
       "      <td>0.116447</td>\n",
       "      <td>0.349077</td>\n",
       "      <td>0.352315</td>\n",
       "      <td>0.684089</td>\n",
       "      <td>0.291026</td>\n",
       "      <td>0.437605</td>\n",
       "      <td>0.390397</td>\n",
       "      <td>0.493745</td>\n",
       "      <td>0.874752</td>\n",
       "    </tr>\n",
       "    <tr>\n",
       "      <th>756</th>\n",
       "      <td>0.618699</td>\n",
       "      <td>0.493165</td>\n",
       "      <td>0.385806</td>\n",
       "      <td>0.492996</td>\n",
       "      <td>0.432608</td>\n",
       "      <td>0.534052</td>\n",
       "      <td>0.491678</td>\n",
       "      <td>0.604108</td>\n",
       "      <td>0.473886</td>\n",
       "      <td>0.390886</td>\n",
       "      <td>...</td>\n",
       "      <td>0.812339</td>\n",
       "      <td>0.932494</td>\n",
       "      <td>0.386266</td>\n",
       "      <td>0.567797</td>\n",
       "      <td>0.141876</td>\n",
       "      <td>0.268601</td>\n",
       "      <td>0.152100</td>\n",
       "      <td>0.477531</td>\n",
       "      <td>0.782348</td>\n",
       "      <td>0.051094</td>\n",
       "    </tr>\n",
       "    <tr>\n",
       "      <th>757</th>\n",
       "      <td>0.085312</td>\n",
       "      <td>0.000000</td>\n",
       "      <td>0.253839</td>\n",
       "      <td>0.256388</td>\n",
       "      <td>0.297132</td>\n",
       "      <td>0.404359</td>\n",
       "      <td>0.484862</td>\n",
       "      <td>0.077360</td>\n",
       "      <td>0.380118</td>\n",
       "      <td>0.517870</td>\n",
       "      <td>...</td>\n",
       "      <td>0.144064</td>\n",
       "      <td>0.217634</td>\n",
       "      <td>0.124467</td>\n",
       "      <td>0.104235</td>\n",
       "      <td>0.125405</td>\n",
       "      <td>0.289966</td>\n",
       "      <td>0.358314</td>\n",
       "      <td>0.337667</td>\n",
       "      <td>0.122295</td>\n",
       "      <td>0.819535</td>\n",
       "    </tr>\n",
       "    <tr>\n",
       "      <th>758</th>\n",
       "      <td>0.180801</td>\n",
       "      <td>0.358771</td>\n",
       "      <td>0.527640</td>\n",
       "      <td>0.282962</td>\n",
       "      <td>0.302648</td>\n",
       "      <td>0.388143</td>\n",
       "      <td>0.288655</td>\n",
       "      <td>0.180084</td>\n",
       "      <td>0.311655</td>\n",
       "      <td>0.543096</td>\n",
       "      <td>...</td>\n",
       "      <td>0.419142</td>\n",
       "      <td>0.239676</td>\n",
       "      <td>0.152814</td>\n",
       "      <td>0.089968</td>\n",
       "      <td>0.697156</td>\n",
       "      <td>0.167466</td>\n",
       "      <td>0.527031</td>\n",
       "      <td>0.400552</td>\n",
       "      <td>0.458065</td>\n",
       "      <td>0.984967</td>\n",
       "    </tr>\n",
       "  </tbody>\n",
       "</table>\n",
       "<p>759 rows × 1248 columns</p>\n",
       "</div>"
      ],
      "text/plain": [
       "         1148      1178      303       713       693       1177      712   \\\n",
       "0    0.180801  0.358771  0.527640  0.282962  0.302648  0.388143  0.288655   \n",
       "1    0.180801  0.358771  0.527640  0.282962  0.302648  0.388143  0.288655   \n",
       "2    0.057432  0.440684  0.550914  0.217817  0.156841  0.277338  0.133664   \n",
       "3    0.618699  0.493165  0.385806  0.492996  0.432608  0.534052  0.491678   \n",
       "4    0.180801  0.358771  0.527640  0.282962  0.302648  0.388143  0.288655   \n",
       "..        ...       ...       ...       ...       ...       ...       ...   \n",
       "754  0.922221  0.814669  0.414147  0.497143  0.637205  0.484904  0.518048   \n",
       "755  0.801897  0.235689  0.333711  0.386360  0.616213  0.042335  0.594147   \n",
       "756  0.618699  0.493165  0.385806  0.492996  0.432608  0.534052  0.491678   \n",
       "757  0.085312  0.000000  0.253839  0.256388  0.297132  0.404359  0.484862   \n",
       "758  0.180801  0.358771  0.527640  0.282962  0.302648  0.388143  0.288655   \n",
       "\n",
       "         1147      692       302   ...      244       164       724   \\\n",
       "0    0.180084  0.311655  0.543096  ...  0.396522  0.883553  0.546681   \n",
       "1    0.180084  0.311655  0.543096  ...  0.178842  0.155559  0.122775   \n",
       "2    0.146919  0.247760  0.819526  ...  0.265566  0.280168  0.069191   \n",
       "3    0.604108  0.473886  0.390886  ...  0.800694  0.867029  0.442132   \n",
       "4    0.180084  0.311655  0.543096  ...  0.655879  0.891801  0.489394   \n",
       "..        ...       ...       ...  ...       ...       ...       ...   \n",
       "754  0.784261  0.553191  0.686778  ...  0.161839  0.155416  0.506176   \n",
       "755  0.946161  0.448090  0.643750  ...  0.204138  0.116447  0.349077   \n",
       "756  0.604108  0.473886  0.390886  ...  0.812339  0.932494  0.386266   \n",
       "757  0.077360  0.380118  0.517870  ...  0.144064  0.217634  0.124467   \n",
       "758  0.180084  0.311655  0.543096  ...  0.419142  0.239676  0.152814   \n",
       "\n",
       "         414       799       664       949       1009      144       54    \n",
       "0    0.196126  0.182257  0.614470  0.255813  0.487738  0.589567  0.045295  \n",
       "1    0.158051  0.851660  0.598413  0.105225  0.403876  0.524496  0.866622  \n",
       "2    0.062438  0.165734  0.415687  0.441714  0.380846  0.192838  0.845130  \n",
       "3    0.311441  0.177214  0.308868  0.446441  0.310418  0.703393  0.025908  \n",
       "4    0.279762  0.135927  0.414494  0.180550  0.494330  0.688114  0.050136  \n",
       "..        ...       ...       ...       ...       ...       ...       ...  \n",
       "754  0.739155  0.569086  0.287075  0.292170  0.579183  0.611233  0.861116  \n",
       "755  0.352315  0.684089  0.291026  0.437605  0.390397  0.493745  0.874752  \n",
       "756  0.567797  0.141876  0.268601  0.152100  0.477531  0.782348  0.051094  \n",
       "757  0.104235  0.125405  0.289966  0.358314  0.337667  0.122295  0.819535  \n",
       "758  0.089968  0.697156  0.167466  0.527031  0.400552  0.458065  0.984967  \n",
       "\n",
       "[759 rows x 1248 columns]"
      ]
     },
     "execution_count": 181,
     "metadata": {},
     "output_type": "execute_result"
    }
   ],
   "source": [
    "sortedDf = pd.DataFrame(featuresTrainReduced)[fs.top_features]\n",
    "sortedDf"
   ]
  },
  {
   "cell_type": "code",
   "execution_count": 183,
   "metadata": {},
   "outputs": [
    {
     "data": {
      "text/plain": [
       "array([1148, 1178,  303,  713,  693], dtype=int64)"
      ]
     },
     "execution_count": 183,
     "metadata": {},
     "output_type": "execute_result"
    }
   ],
   "source": [
    "fs.top_features[:5]"
   ]
  },
  {
   "cell_type": "code",
   "execution_count": null,
   "metadata": {},
   "outputs": [],
   "source": []
  },
  {
   "cell_type": "code",
   "execution_count": null,
   "metadata": {},
   "outputs": [],
   "source": []
  },
  {
   "cell_type": "code",
   "execution_count": null,
   "metadata": {},
   "outputs": [],
   "source": []
  }
 ],
 "metadata": {
  "kernelspec": {
   "display_name": "Python 3",
   "language": "python",
   "name": "python3"
  },
  "language_info": {
   "codemirror_mode": {
    "name": "ipython",
    "version": 3
   },
   "file_extension": ".py",
   "mimetype": "text/x-python",
   "name": "python",
   "nbconvert_exporter": "python",
   "pygments_lexer": "ipython3",
   "version": "3.8.2"
  }
 },
 "nbformat": 4,
 "nbformat_minor": 4
}
