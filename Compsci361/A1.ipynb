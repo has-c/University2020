{
 "cells": [
  {
   "cell_type": "code",
   "execution_count": 97,
   "metadata": {},
   "outputs": [],
   "source": [
    "import numpy as np\n",
    "import pandas as pd\n",
    "from scipy.io.arff import loadarff\n",
    "import matplotlib.pyplot as plt\n",
    "import seaborn as sns\n",
    "\n",
    "from sklearn.tree import DecisionTreeClassifier\n",
    "from sklearn.model_selection import train_test_split, cross_val_score\n",
    "from sklearn.metrics import accuracy_score, confusion_matrix\n",
    "from sklearn.preprocessing import LabelEncoder, OrdinalEncoder\n",
    "\n",
    "%matplotlib inline"
   ]
  },
  {
   "cell_type": "markdown",
   "metadata": {},
   "source": [
    "### Obscured A"
   ]
  },
  {
   "cell_type": "markdown",
   "metadata": {},
   "source": [
    "#### Decision Tree - Accuracy vs Dummy Classifier"
   ]
  },
  {
   "cell_type": "code",
   "execution_count": 227,
   "metadata": {},
   "outputs": [],
   "source": [
    "data = loadarff(\"Data\\\\obscuredA.arff\")\n",
    "df = pd.DataFrame(data[0])\n",
    "\n",
    "#iterate through each column and convert the bytes to string\n",
    "columns = list(df.columns)\n",
    "for colName in columns:\n",
    "    df[colName] = df[colName].str.decode(\"utf-8\")\n",
    "    "
   ]
  },
  {
   "cell_type": "code",
   "execution_count": 228,
   "metadata": {},
   "outputs": [],
   "source": [
    "#create features and labels\n",
    "labels = df['contam_code']\n",
    "features = df.drop(\"contam_code\", axis=1)"
   ]
  },
  {
   "cell_type": "code",
   "execution_count": 229,
   "metadata": {},
   "outputs": [],
   "source": [
    "#encode features and labels as integers\n",
    "oe = OrdinalEncoder()\n",
    "encodedFeatures = oe.fit_transform(features)\n",
    "\n",
    "lbe = LabelEncoder()\n",
    "encodedLabels = lbe.fit_transform(labels)"
   ]
  },
  {
   "cell_type": "code",
   "execution_count": 187,
   "metadata": {},
   "outputs": [],
   "source": [
    "#create decision tree \n",
    "clf = DecisionTreeClassifier()"
   ]
  },
  {
   "cell_type": "code",
   "execution_count": 188,
   "metadata": {},
   "outputs": [
    {
     "name": "stderr",
     "output_type": "stream",
     "text": [
      "C:\\Users\\hcheena\\AppData\\Roaming\\Python\\Python37\\site-packages\\sklearn\\model_selection\\_split.py:667: UserWarning: The least populated class in y has only 1 members, which is less than n_splits=10.\n",
      "  % (min_groups, self.n_splits)), UserWarning)\n"
     ]
    }
   ],
   "source": [
    "#cross validate\n",
    "acc = cross_val_score(clf, encodedFeatures, encodedLabels, cv=10, n_jobs=-1)"
   ]
  },
  {
   "cell_type": "code",
   "execution_count": 189,
   "metadata": {},
   "outputs": [
    {
     "data": {
      "text/plain": [
       "array([0.92085954, 0.92007338, 0.91954927, 0.9216457 , 0.92059748,\n",
       "       0.91902516, 0.92348008, 0.92085954, 0.92295597, 0.91797694])"
      ]
     },
     "execution_count": 189,
     "metadata": {},
     "output_type": "execute_result"
    }
   ],
   "source": [
    "acc"
   ]
  },
  {
   "cell_type": "markdown",
   "metadata": {},
   "source": [
    "#### Confusion Matrix"
   ]
  },
  {
   "cell_type": "code",
   "execution_count": 241,
   "metadata": {},
   "outputs": [],
   "source": [
    "#80 20 split\n",
    "trainFeatures, testFeatures, trainLabels, testLabels = train_test_split(encodedFeatures, encodedLabels, test_size=0.2, random_state=42)"
   ]
  },
  {
   "cell_type": "code",
   "execution_count": 242,
   "metadata": {},
   "outputs": [
    {
     "data": {
      "text/plain": [
       "DecisionTreeClassifier(ccp_alpha=0.0, class_weight=None, criterion='gini',\n",
       "                       max_depth=None, max_features=None, max_leaf_nodes=None,\n",
       "                       min_impurity_decrease=0.0, min_impurity_split=None,\n",
       "                       min_samples_leaf=1, min_samples_split=2,\n",
       "                       min_weight_fraction_leaf=0.0, presort='deprecated',\n",
       "                       random_state=None, splitter='best')"
      ]
     },
     "execution_count": 242,
     "metadata": {},
     "output_type": "execute_result"
    }
   ],
   "source": [
    "#create decision tree \n",
    "clf = DecisionTreeClassifier()\n",
    "clf.fit(trainFeatures,trainLabels)"
   ]
  },
  {
   "cell_type": "code",
   "execution_count": 243,
   "metadata": {},
   "outputs": [
    {
     "name": "stdout",
     "output_type": "stream",
     "text": [
      "0.8819444444444444\n"
     ]
    }
   ],
   "source": [
    "acc = accuracy_score(testLabels,predictions)\n",
    "print(acc)"
   ]
  },
  {
   "cell_type": "code",
   "execution_count": 249,
   "metadata": {},
   "outputs": [],
   "source": [
    "#predict and create confusion matrix\n",
    "predictions = clf.predict(testFeatures)\n",
    "cm = confusion_matrix(testLabels,predictions, labels=range(0,len(lbe.classes_)))"
   ]
  },
  {
   "cell_type": "code",
   "execution_count": 250,
   "metadata": {},
   "outputs": [
    {
     "name": "stdout",
     "output_type": "stream",
     "text": [
      "    0  1     2  3  4  5  6  7  8  9  10  11  12  13  14  15  16  17  18   19  \\\n",
      "0   0  0     0  0  0  0  0  0  0  0   0   0   0   0   0   0   0   0   0    0   \n",
      "1   0  2    31  0  0  0  0  0  0  0   0   0   0   0   0   0   0   0   0    0   \n",
      "2   0  2  6715  0  0  0  1  9  0  1   1   3   0   1   0   0   7   0   0   25   \n",
      "3   0  0     3  0  0  0  0  0  0  0   0   0   0   0   0   0   0   0   0    0   \n",
      "4   0  0     2  0  0  0  0  0  0  0   0   0   0   0   0   0   0   0   0    0   \n",
      "5   0  0    10  0  0  0  0  0  0  0   0   0   0   0   0   0   0   0   0    0   \n",
      "6   0  0    19  0  0  0  0  0  0  0   0   0   0   0   0   0   0   0   0    0   \n",
      "7   0  0    63  0  0  0  1  3  0  0   0   0   0   0   0   0   0   0   0   17   \n",
      "8   0  0     6  0  0  0  0  0  0  0   0   0   0   0   0   0   1   0   0    0   \n",
      "9   0  0     0  0  0  0  0  0  0  0   0   0   0   0   0   0   0   0   0    0   \n",
      "10  0  0    12  0  0  0  0  0  0  0   0   0   0   0   0   0   0   0   0    0   \n",
      "11  0  0    13  0  0  0  0  0  0  0   0   0   0   0   0   0   0   0   0    0   \n",
      "12  0  0     0  0  0  0  0  0  0  0   0   0   0   0   0   0   0   0   0    0   \n",
      "13  0  0     1  0  0  0  0  0  0  0   0   0   0   0   0   0   0   0   0    0   \n",
      "14  0  0    21  0  0  0  0  0  0  0   0   0   0   0   1   0   0   0   0    1   \n",
      "15  0  0     3  0  0  0  0  0  0  0   0   0   0   0   0   0   1   0   0    0   \n",
      "16  0  0    55  0  0  0  1  0  0  0   0   0   0   0   0   0   2   0   0   20   \n",
      "17  0  0     3  0  0  0  1  0  0  0   0   0   0   0   0   0   0   0   0    0   \n",
      "18  0  0     2  0  0  0  0  0  0  0   0   0   0   0   0   0   0   0   0    0   \n",
      "19  0  0   136  0  0  0  0  0  1  0   0   0   0   0   1   0   1   0   0  285   \n",
      "20  0  0     1  0  0  0  0  0  0  0   0   0   0   0   0   0   0   0   0    0   \n",
      "21  0  0    31  0  0  0  0  1  1  0   0   0   0   0   0   0   0   0   0  100   \n",
      "22  0  0     9  0  0  0  0  0  0  0   0   0   0   0   0   0   0   0   0    0   \n",
      "23  0  0     1  0  0  0  0  0  0  0   0   0   0   0   0   0   0   0   0    0   \n",
      "\n",
      "    20  21  22  23  \n",
      "0    0   0   0   0  \n",
      "1    0   0   0   0  \n",
      "2    0   2   0   0  \n",
      "3    0   0   0   0  \n",
      "4    0   0   0   0  \n",
      "5    0   0   0   0  \n",
      "6    0   0   0   0  \n",
      "7    0   0   0   0  \n",
      "8    0   0   0   0  \n",
      "9    0   0   0   0  \n",
      "10   0   1   0   0  \n",
      "11   0   0   0   0  \n",
      "12   0   0   0   0  \n",
      "13   0   0   0   0  \n",
      "14   0   0   0   0  \n",
      "15   0   0   0   0  \n",
      "16   0   0   0   0  \n",
      "17   0   0   0   0  \n",
      "18   0   0   0   0  \n",
      "19   0   0   0   0  \n",
      "20   0   0   0   0  \n",
      "21   0   1   0   0  \n",
      "22   0   0   0   0  \n",
      "23   0   0   0   0  \n"
     ]
    }
   ],
   "source": [
    "#confusion matrix \n",
    "df_cm = pd.DataFrame(cm)\n",
    "with pd.option_context('display.max_rows', None, 'display.max_columns', None):  # more options can be specified also\n",
    "    print(df_cm)"
   ]
  },
  {
   "cell_type": "code",
   "execution_count": 251,
   "metadata": {},
   "outputs": [],
   "source": [
    "df_cm.to_csv(\"ConfusionMatrixA.csv\")"
   ]
  },
  {
   "cell_type": "markdown",
   "metadata": {},
   "source": [
    "### Dummy Classifier - Majority Class"
   ]
  },
  {
   "cell_type": "code",
   "execution_count": 231,
   "metadata": {},
   "outputs": [],
   "source": [
    "#look at distribution of labels in the class\n",
    "labels = np.unique(encodedLabels)\n",
    "\n",
    "#count labels\n",
    "labelCount = list()\n",
    "for label in labels:\n",
    "    #count how many times a specific label occurs in the entire label set\n",
    "    count = np.sum(np.equal(label,encodedLabels))\n",
    "    labelCount.append(count)\n",
    "\n",
    "#create dataframe to examine\n",
    "labelInfoDf = pd.DataFrame({\"raw label\":np.unique(df['contam_code']), \"encoded label\": labels, \"count\":labelCount})"
   ]
  },
  {
   "cell_type": "code",
   "execution_count": 232,
   "metadata": {},
   "outputs": [
    {
     "data": {
      "text/html": [
       "<div>\n",
       "<style scoped>\n",
       "    .dataframe tbody tr th:only-of-type {\n",
       "        vertical-align: middle;\n",
       "    }\n",
       "\n",
       "    .dataframe tbody tr th {\n",
       "        vertical-align: top;\n",
       "    }\n",
       "\n",
       "    .dataframe thead th {\n",
       "        text-align: right;\n",
       "    }\n",
       "</style>\n",
       "<table border=\"1\" class=\"dataframe\">\n",
       "  <thead>\n",
       "    <tr style=\"text-align: right;\">\n",
       "      <th></th>\n",
       "      <th>raw label</th>\n",
       "      <th>encoded label</th>\n",
       "      <th>count</th>\n",
       "    </tr>\n",
       "  </thead>\n",
       "  <tbody>\n",
       "    <tr>\n",
       "      <th>0</th>\n",
       "      <td>a</td>\n",
       "      <td>0</td>\n",
       "      <td>3</td>\n",
       "    </tr>\n",
       "    <tr>\n",
       "      <th>1</th>\n",
       "      <td>b</td>\n",
       "      <td>1</td>\n",
       "      <td>146</td>\n",
       "    </tr>\n",
       "    <tr>\n",
       "      <th>2</th>\n",
       "      <td>c</td>\n",
       "      <td>2</td>\n",
       "      <td>33950</td>\n",
       "    </tr>\n",
       "    <tr>\n",
       "      <th>3</th>\n",
       "      <td>d</td>\n",
       "      <td>3</td>\n",
       "      <td>14</td>\n",
       "    </tr>\n",
       "    <tr>\n",
       "      <th>4</th>\n",
       "      <td>e</td>\n",
       "      <td>4</td>\n",
       "      <td>7</td>\n",
       "    </tr>\n",
       "    <tr>\n",
       "      <th>5</th>\n",
       "      <td>f</td>\n",
       "      <td>5</td>\n",
       "      <td>47</td>\n",
       "    </tr>\n",
       "    <tr>\n",
       "      <th>6</th>\n",
       "      <td>g</td>\n",
       "      <td>6</td>\n",
       "      <td>107</td>\n",
       "    </tr>\n",
       "    <tr>\n",
       "      <th>7</th>\n",
       "      <td>h</td>\n",
       "      <td>7</td>\n",
       "      <td>482</td>\n",
       "    </tr>\n",
       "    <tr>\n",
       "      <th>8</th>\n",
       "      <td>i</td>\n",
       "      <td>8</td>\n",
       "      <td>33</td>\n",
       "    </tr>\n",
       "    <tr>\n",
       "      <th>9</th>\n",
       "      <td>j</td>\n",
       "      <td>9</td>\n",
       "      <td>10</td>\n",
       "    </tr>\n",
       "    <tr>\n",
       "      <th>10</th>\n",
       "      <td>k</td>\n",
       "      <td>10</td>\n",
       "      <td>56</td>\n",
       "    </tr>\n",
       "    <tr>\n",
       "      <th>11</th>\n",
       "      <td>l</td>\n",
       "      <td>11</td>\n",
       "      <td>68</td>\n",
       "    </tr>\n",
       "    <tr>\n",
       "      <th>12</th>\n",
       "      <td>m</td>\n",
       "      <td>12</td>\n",
       "      <td>1</td>\n",
       "    </tr>\n",
       "    <tr>\n",
       "      <th>13</th>\n",
       "      <td>n</td>\n",
       "      <td>13</td>\n",
       "      <td>3</td>\n",
       "    </tr>\n",
       "    <tr>\n",
       "      <th>14</th>\n",
       "      <td>o</td>\n",
       "      <td>14</td>\n",
       "      <td>118</td>\n",
       "    </tr>\n",
       "    <tr>\n",
       "      <th>15</th>\n",
       "      <td>p</td>\n",
       "      <td>15</td>\n",
       "      <td>10</td>\n",
       "    </tr>\n",
       "    <tr>\n",
       "      <th>16</th>\n",
       "      <td>q</td>\n",
       "      <td>16</td>\n",
       "      <td>341</td>\n",
       "    </tr>\n",
       "    <tr>\n",
       "      <th>17</th>\n",
       "      <td>r</td>\n",
       "      <td>17</td>\n",
       "      <td>10</td>\n",
       "    </tr>\n",
       "    <tr>\n",
       "      <th>18</th>\n",
       "      <td>s</td>\n",
       "      <td>18</td>\n",
       "      <td>21</td>\n",
       "    </tr>\n",
       "    <tr>\n",
       "      <th>19</th>\n",
       "      <td>t</td>\n",
       "      <td>19</td>\n",
       "      <td>1978</td>\n",
       "    </tr>\n",
       "    <tr>\n",
       "      <th>20</th>\n",
       "      <td>u</td>\n",
       "      <td>20</td>\n",
       "      <td>2</td>\n",
       "    </tr>\n",
       "    <tr>\n",
       "      <th>21</th>\n",
       "      <td>v</td>\n",
       "      <td>21</td>\n",
       "      <td>715</td>\n",
       "    </tr>\n",
       "    <tr>\n",
       "      <th>22</th>\n",
       "      <td>w</td>\n",
       "      <td>22</td>\n",
       "      <td>28</td>\n",
       "    </tr>\n",
       "    <tr>\n",
       "      <th>23</th>\n",
       "      <td>x</td>\n",
       "      <td>23</td>\n",
       "      <td>10</td>\n",
       "    </tr>\n",
       "  </tbody>\n",
       "</table>\n",
       "</div>"
      ],
      "text/plain": [
       "   raw label  encoded label  count\n",
       "0          a              0      3\n",
       "1          b              1    146\n",
       "2          c              2  33950\n",
       "3          d              3     14\n",
       "4          e              4      7\n",
       "5          f              5     47\n",
       "6          g              6    107\n",
       "7          h              7    482\n",
       "8          i              8     33\n",
       "9          j              9     10\n",
       "10         k             10     56\n",
       "11         l             11     68\n",
       "12         m             12      1\n",
       "13         n             13      3\n",
       "14         o             14    118\n",
       "15         p             15     10\n",
       "16         q             16    341\n",
       "17         r             17     10\n",
       "18         s             18     21\n",
       "19         t             19   1978\n",
       "20         u             20      2\n",
       "21         v             21    715\n",
       "22         w             22     28\n",
       "23         x             23     10"
      ]
     },
     "execution_count": 232,
     "metadata": {},
     "output_type": "execute_result"
    }
   ],
   "source": [
    "labelInfoDf"
   ]
  },
  {
   "cell_type": "code",
   "execution_count": 225,
   "metadata": {},
   "outputs": [
    {
     "name": "stdout",
     "output_type": "stream",
     "text": [
      "0.8896750524109015\n"
     ]
    }
   ],
   "source": [
    "#if you pick label c the entire time what is the accuracy \n",
    "acc = labelInfoDf['count'][2]/np.sum(labelInfoDf['count'])\n",
    "print(acc)\n",
    "\n",
    "#accuarcy is high but this does not mean there is a signal"
   ]
  },
  {
   "cell_type": "markdown",
   "metadata": {},
   "source": [
    "### Obscured B "
   ]
  },
  {
   "cell_type": "markdown",
   "metadata": {},
   "source": [
    "#### Decision Tree - Accuracy vs Dummy Classifier"
   ]
  },
  {
   "cell_type": "code",
   "execution_count": 252,
   "metadata": {},
   "outputs": [],
   "source": [
    "data = loadarff(\"Data\\\\obscuredB.arff\")\n",
    "df = pd.DataFrame(data[0])\n",
    "\n",
    "#iterate through each column and convert the bytes to string\n",
    "columns = list(df.columns)\n",
    "for colName in columns:\n",
    "    df[colName] = df[colName].str.decode(\"utf-8\")\n",
    "    "
   ]
  },
  {
   "cell_type": "code",
   "execution_count": 253,
   "metadata": {},
   "outputs": [],
   "source": [
    "#create features and labels\n",
    "labels = df['contam_code']\n",
    "features = df.drop(\"contam_code\", axis=1)"
   ]
  },
  {
   "cell_type": "code",
   "execution_count": 254,
   "metadata": {},
   "outputs": [],
   "source": [
    "#encode features and labels as integers\n",
    "oe = OrdinalEncoder()\n",
    "encodedFeatures = oe.fit_transform(features)\n",
    "\n",
    "lbe = LabelEncoder()\n",
    "encodedLabels = lbe.fit_transform(labels)"
   ]
  },
  {
   "cell_type": "code",
   "execution_count": 255,
   "metadata": {},
   "outputs": [],
   "source": [
    "#create decision tree \n",
    "clf = DecisionTreeClassifier()"
   ]
  },
  {
   "cell_type": "code",
   "execution_count": 256,
   "metadata": {},
   "outputs": [
    {
     "name": "stderr",
     "output_type": "stream",
     "text": [
      "C:\\Users\\hcheena\\AppData\\Roaming\\Python\\Python37\\site-packages\\sklearn\\model_selection\\_split.py:667: UserWarning: The least populated class in y has only 1 members, which is less than n_splits=10.\n",
      "  % (min_groups, self.n_splits)), UserWarning)\n"
     ]
    }
   ],
   "source": [
    "acc = cross_val_score(clf, encodedFeatures, encodedLabels, cv=10, n_jobs=-1)"
   ]
  },
  {
   "cell_type": "code",
   "execution_count": 257,
   "metadata": {},
   "outputs": [
    {
     "data": {
      "text/plain": [
       "array([0.8865304 , 0.88548218, 0.88757862, 0.88679245, 0.88600629,\n",
       "       0.88443396, 0.88574423, 0.88574423, 0.88574423, 0.88548218])"
      ]
     },
     "execution_count": 257,
     "metadata": {},
     "output_type": "execute_result"
    }
   ],
   "source": [
    "acc"
   ]
  },
  {
   "cell_type": "markdown",
   "metadata": {},
   "source": [
    "#### Confusion Matrix"
   ]
  },
  {
   "cell_type": "code",
   "execution_count": 258,
   "metadata": {},
   "outputs": [],
   "source": [
    "#80 20 split\n",
    "trainFeatures, testFeatures, trainLabels, testLabels = train_test_split(encodedFeatures, encodedLabels, test_size=0.2, random_state=42)"
   ]
  },
  {
   "cell_type": "code",
   "execution_count": 259,
   "metadata": {},
   "outputs": [
    {
     "data": {
      "text/plain": [
       "DecisionTreeClassifier(ccp_alpha=0.0, class_weight=None, criterion='gini',\n",
       "                       max_depth=None, max_features=None, max_leaf_nodes=None,\n",
       "                       min_impurity_decrease=0.0, min_impurity_split=None,\n",
       "                       min_samples_leaf=1, min_samples_split=2,\n",
       "                       min_weight_fraction_leaf=0.0, presort='deprecated',\n",
       "                       random_state=None, splitter='best')"
      ]
     },
     "execution_count": 259,
     "metadata": {},
     "output_type": "execute_result"
    }
   ],
   "source": [
    "#create decision tree \n",
    "clf = DecisionTreeClassifier()\n",
    "clf.fit(trainFeatures,trainLabels)"
   ]
  },
  {
   "cell_type": "code",
   "execution_count": 260,
   "metadata": {},
   "outputs": [
    {
     "name": "stdout",
     "output_type": "stream",
     "text": [
      "0.8343815513626834\n"
     ]
    }
   ],
   "source": [
    "acc = accuracy_score(testLabels,predictions)\n",
    "print(acc)"
   ]
  },
  {
   "cell_type": "code",
   "execution_count": 261,
   "metadata": {},
   "outputs": [],
   "source": [
    "#predict and create confusion matrix\n",
    "predictions = clf.predict(testFeatures)\n",
    "cm = confusion_matrix(testLabels,predictions, labels=range(0,len(lbe.classes_)))"
   ]
  },
  {
   "cell_type": "code",
   "execution_count": 262,
   "metadata": {},
   "outputs": [
    {
     "name": "stdout",
     "output_type": "stream",
     "text": [
      "    0  1     2  3  4  5  6  7  8  9  10  11  12  13  14  15  16  17  18  19  \\\n",
      "0   0  0     1  0  0  0  0  0  0  0   0   0   0   0   0   0   0   0   0   0   \n",
      "1   0  0    22  0  0  0  0  0  0  0   0   0   0   0   0   0   0   0   1   0   \n",
      "2   0  0  6743  0  0  1  3  1  0  0   0   1   0   0   0   0   6   0   0  20   \n",
      "3   0  0     4  0  0  0  0  0  0  0   0   0   0   0   0   0   0   0   0   0   \n",
      "4   0  0     2  0  0  0  0  0  0  0   0   0   0   0   0   0   0   0   0   0   \n",
      "5   0  0     8  0  0  0  0  0  0  0   0   0   0   0   0   0   0   0   0   0   \n",
      "6   0  0    21  0  0  0  0  0  0  0   0   0   0   0   0   0   0   0   0   0   \n",
      "7   0  0   101  0  0  0  0  0  0  0   0   0   0   0   0   0   0   0   0   0   \n",
      "8   0  0     5  0  0  0  0  0  0  0   0   0   0   0   0   0   0   0   0   0   \n",
      "9   0  0     2  0  0  0  0  0  0  0   0   0   0   0   0   0   0   0   0   0   \n",
      "10  0  0    13  0  0  0  0  0  0  0   0   0   0   0   0   0   0   0   0   0   \n",
      "11  0  0    13  0  0  0  0  0  0  0   0   0   0   0   0   0   0   0   0   0   \n",
      "12  0  0     1  0  0  0  0  0  0  0   0   0   0   0   0   0   0   0   0   0   \n",
      "13  0  0     0  0  0  0  0  0  0  0   0   0   0   0   0   0   0   0   0   0   \n",
      "14  0  0    12  0  0  0  0  0  0  0   0   0   0   0   0   0   0   0   0   0   \n",
      "15  0  0     2  0  0  0  0  0  0  0   0   0   0   0   0   0   0   0   0   0   \n",
      "16  0  0    54  0  0  0  0  0  0  0   0   0   0   0   0   0   0   0   0   0   \n",
      "17  0  0     2  0  0  0  0  0  0  0   0   0   0   0   0   0   0   0   0   0   \n",
      "18  0  0     5  0  0  0  0  0  0  0   0   0   0   0   0   0   0   0   0   0   \n",
      "19  0  0   401  0  0  0  0  0  0  0   0   0   0   0   0   0   0   0   0   0   \n",
      "20  0  0     1  0  0  0  0  0  0  0   0   0   0   0   0   0   0   0   0   0   \n",
      "21  0  1   172  0  0  0  0  0  0  0   0   0   0   0   0   0   0   0   0   0   \n",
      "22  0  0     4  0  0  0  0  0  0  0   0   0   0   0   0   0   0   0   0   0   \n",
      "23  0  0     2  0  0  0  0  0  0  0   0   0   0   0   0   0   0   0   0   0   \n",
      "\n",
      "    20  21  22  23  \n",
      "0    0   0   0   0  \n",
      "1    0   0   0   0  \n",
      "2    0   7   0   0  \n",
      "3    0   0   0   0  \n",
      "4    0   0   0   0  \n",
      "5    0   0   0   0  \n",
      "6    0   0   0   0  \n",
      "7    0   0   0   0  \n",
      "8    0   0   0   0  \n",
      "9    0   0   0   0  \n",
      "10   0   0   0   0  \n",
      "11   0   0   0   0  \n",
      "12   0   0   0   0  \n",
      "13   0   0   0   0  \n",
      "14   0   0   0   0  \n",
      "15   0   0   0   0  \n",
      "16   0   0   0   0  \n",
      "17   0   0   0   0  \n",
      "18   0   0   0   0  \n",
      "19   0   0   0   0  \n",
      "20   0   0   0   0  \n",
      "21   0   0   0   0  \n",
      "22   0   0   0   0  \n",
      "23   0   0   0   0  \n"
     ]
    }
   ],
   "source": [
    "#confusion matrix \n",
    "df_cm = pd.DataFrame(cm)\n",
    "with pd.option_context('display.max_rows', None, 'display.max_columns', None):  # more options can be specified also\n",
    "    print(df_cm)"
   ]
  },
  {
   "cell_type": "code",
   "execution_count": 263,
   "metadata": {},
   "outputs": [],
   "source": [
    "df_cm.to_csv(\"ConfusionMatrixB.csv\")"
   ]
  },
  {
   "cell_type": "code",
   "execution_count": null,
   "metadata": {},
   "outputs": [],
   "source": []
  }
 ],
 "metadata": {
  "kernelspec": {
   "display_name": "Python 3",
   "language": "python",
   "name": "python3"
  },
  "language_info": {
   "codemirror_mode": {
    "name": "ipython",
    "version": 3
   },
   "file_extension": ".py",
   "mimetype": "text/x-python",
   "name": "python",
   "nbconvert_exporter": "python",
   "pygments_lexer": "ipython3",
   "version": "3.7.6"
  }
 },
 "nbformat": 4,
 "nbformat_minor": 4
}
