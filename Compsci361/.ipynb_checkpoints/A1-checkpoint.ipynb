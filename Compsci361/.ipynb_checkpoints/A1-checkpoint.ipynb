{
 "cells": [
  {
   "cell_type": "code",
   "execution_count": 97,
   "metadata": {},
   "outputs": [],
   "source": [
    "import numpy as np\n",
    "import pandas as pd\n",
    "from scipy.io.arff import loadarff\n",
    "import matplotlib.pyplot as plt\n",
    "import seaborn as sns\n",
    "\n",
    "from sklearn.tree import DecisionTreeClassifier\n",
    "from sklearn.model_selection import train_test_split, cross_val_score\n",
    "from sklearn.metrics import accuracy_score, confusion_matrix\n",
    "from sklearn.preprocessing import LabelEncoder, OrdinalEncoder\n",
    "\n",
    "%matplotlib inline"
   ]
  },
  {
   "cell_type": "markdown",
   "metadata": {},
   "source": [
    "### Obscured A"
   ]
  },
  {
   "cell_type": "markdown",
   "metadata": {},
   "source": [
    "#### Decision Tree - Accuracy vs Dummy Classifier"
   ]
  },
  {
   "cell_type": "code",
   "execution_count": 85,
   "metadata": {},
   "outputs": [],
   "source": [
    "data = loadarff(\"Data\\\\obscuredA.arff\")\n",
    "df = pd.DataFrame(data[0])\n",
    "\n",
    "#iterate through each column and convert the bytes to string\n",
    "columns = list(df.columns)\n",
    "for colName in columns:\n",
    "    df[colName] = df[colName].str.decode(\"utf-8\")\n",
    "    "
   ]
  },
  {
   "cell_type": "code",
   "execution_count": 86,
   "metadata": {},
   "outputs": [],
   "source": [
    "#create features and labels\n",
    "labels = df['contam_code']\n",
    "features = df.drop(\"contam_code\", axis=1)"
   ]
  },
  {
   "cell_type": "code",
   "execution_count": 87,
   "metadata": {},
   "outputs": [],
   "source": [
    "#encode features and labels as integers\n",
    "oe = OrdinalEncoder()\n",
    "encodedFeatures = oe.fit_transform(features)\n",
    "\n",
    "lbe = LabelEncoder()\n",
    "encodedLabels = lbe.fit_transform(labels)"
   ]
  },
  {
   "cell_type": "code",
   "execution_count": 88,
   "metadata": {},
   "outputs": [],
   "source": [
    "#create decision tree \n",
    "clf = DecisionTreeClassifier()"
   ]
  },
  {
   "cell_type": "code",
   "execution_count": 89,
   "metadata": {},
   "outputs": [
    {
     "name": "stderr",
     "output_type": "stream",
     "text": [
      "C:\\Users\\hcheena\\AppData\\Roaming\\Python\\Python37\\site-packages\\sklearn\\model_selection\\_split.py:667: UserWarning: The least populated class in y has only 1 members, which is less than n_splits=10.\n",
      "  % (min_groups, self.n_splits)), UserWarning)\n"
     ]
    }
   ],
   "source": [
    "#cross validate\n",
    "acc = cross_val_score(clf, encodedFeatures, encodedLabels, cv=10, n_jobs=-1)"
   ]
  },
  {
   "cell_type": "code",
   "execution_count": 90,
   "metadata": {},
   "outputs": [
    {
     "data": {
      "text/plain": [
       "array([0.92085954, 0.92059748, 0.91981132, 0.92112159, 0.92085954,\n",
       "       0.91902516, 0.92348008, 0.92085954, 0.92321803, 0.91771488])"
      ]
     },
     "execution_count": 90,
     "metadata": {},
     "output_type": "execute_result"
    }
   ],
   "source": [
    "acc"
   ]
  },
  {
   "cell_type": "markdown",
   "metadata": {},
   "source": [
    "#### Confusion Matrix"
   ]
  },
  {
   "cell_type": "code",
   "execution_count": 117,
   "metadata": {},
   "outputs": [],
   "source": [
    "#80 20 split\n",
    "trainFeatures, testFeatures, trainLabels, testLabels = train_test_split(encodedFeatures, encodedLabels, test_size=0.2, random_state=42)"
   ]
  },
  {
   "cell_type": "code",
   "execution_count": 118,
   "metadata": {},
   "outputs": [
    {
     "data": {
      "text/plain": [
       "DecisionTreeClassifier(ccp_alpha=0.0, class_weight=None, criterion='gini',\n",
       "                       max_depth=None, max_features=None, max_leaf_nodes=None,\n",
       "                       min_impurity_decrease=0.0, min_impurity_split=None,\n",
       "                       min_samples_leaf=1, min_samples_split=2,\n",
       "                       min_weight_fraction_leaf=0.0, presort='deprecated',\n",
       "                       random_state=None, splitter='best')"
      ]
     },
     "execution_count": 118,
     "metadata": {},
     "output_type": "execute_result"
    }
   ],
   "source": [
    "#create decision tree \n",
    "clf = DecisionTreeClassifier()\n",
    "clf.fit(trainFeatures,trainLabels)"
   ]
  },
  {
   "cell_type": "code",
   "execution_count": 119,
   "metadata": {},
   "outputs": [
    {
     "name": "stdout",
     "output_type": "stream",
     "text": [
      "0.9183700209643606\n"
     ]
    }
   ],
   "source": [
    "acc = accuracy_score(testLabels,predictions)\n",
    "print(acc)"
   ]
  },
  {
   "cell_type": "code",
   "execution_count": 120,
   "metadata": {},
   "outputs": [],
   "source": [
    "#predict and create confusion matrix\n",
    "predictions = clf.predict(testFeatures)\n",
    "cm = confusion_matrix(testLabels,predictions)"
   ]
  },
  {
   "cell_type": "code",
   "execution_count": 121,
   "metadata": {},
   "outputs": [
    {
     "name": "stdout",
     "output_type": "stream",
     "text": [
      "    0     1  2  3  4  5  6  7  8  9  10  11  12  13  14  15  16   17  18  19  \\\n",
      "0   2    31  0  0  0  0  0  0  0  0   0   0   0   0   0   0   0    0   0   0   \n",
      "1   4  6713  0  0  0  1  9  0  1  1   3   1   0   0   7   0   0   25   0   2   \n",
      "2   0     3  0  0  0  0  0  0  0  0   0   0   0   0   0   0   0    0   0   0   \n",
      "3   0     2  0  0  0  0  0  0  0  0   0   0   0   0   0   0   0    0   0   0   \n",
      "4   0    10  0  0  0  0  0  0  0  0   0   0   0   0   0   0   0    0   0   0   \n",
      "5   0    19  0  0  0  0  0  0  0  0   0   0   0   0   0   0   0    0   0   0   \n",
      "6   0    63  0  0  0  1  3  0  0  0   0   0   0   0   0   0   0   17   0   0   \n",
      "7   0     6  0  0  0  0  0  0  0  0   0   0   0   0   1   0   0    0   0   0   \n",
      "8   0     0  0  0  0  0  0  0  0  0   0   0   0   0   0   0   0    0   0   0   \n",
      "9   0    12  0  0  0  0  0  0  0  0   0   0   0   0   0   0   0    0   0   1   \n",
      "10  0    13  0  0  0  0  0  0  0  0   0   0   0   0   0   0   0    0   0   0   \n",
      "11  0     1  0  0  0  0  0  0  0  0   0   0   0   0   0   0   0    0   0   0   \n",
      "12  0    21  0  0  0  0  0  0  0  0   0   0   1   0   0   0   0    1   0   0   \n",
      "13  0     3  0  0  0  0  0  0  0  0   0   0   0   0   1   0   0    0   0   0   \n",
      "14  0    55  0  0  0  1  0  0  0  0   0   0   0   0   2   0   0   20   0   0   \n",
      "15  0     3  0  0  0  1  0  0  0  0   0   0   0   0   0   0   0    0   0   0   \n",
      "16  0     2  0  0  0  0  0  0  0  0   0   0   0   0   0   0   0    0   0   0   \n",
      "17  0   136  0  0  0  0  0  1  0  0   0   0   1   0   1   0   0  285   0   0   \n",
      "18  0     1  0  0  0  0  0  0  0  0   0   0   0   0   0   0   0    0   0   0   \n",
      "19  0    31  0  0  0  0  1  1  0  0   0   0   0   0   0   0   0  100   0   1   \n",
      "20  0     9  0  0  0  0  0  0  0  0   0   0   0   0   0   0   0    0   0   0   \n",
      "21  0     1  0  0  0  0  0  0  0  0   0   0   0   0   0   0   0    0   0   0   \n",
      "\n",
      "    20  21  \n",
      "0    0   0  \n",
      "1    0   0  \n",
      "2    0   0  \n",
      "3    0   0  \n",
      "4    0   0  \n",
      "5    0   0  \n",
      "6    0   0  \n",
      "7    0   0  \n",
      "8    0   0  \n",
      "9    0   0  \n",
      "10   0   0  \n",
      "11   0   0  \n",
      "12   0   0  \n",
      "13   0   0  \n",
      "14   0   0  \n",
      "15   0   0  \n",
      "16   0   0  \n",
      "17   0   0  \n",
      "18   0   0  \n",
      "19   0   0  \n",
      "20   0   0  \n",
      "21   0   0  \n"
     ]
    }
   ],
   "source": [
    "#confusion matrix \n",
    "df_cm = pd.DataFrame(cm)\n",
    "with pd.option_context('display.max_rows', None, 'display.max_columns', None):  # more options can be specified also\n",
    "    print(df_cm)"
   ]
  },
  {
   "cell_type": "markdown",
   "metadata": {},
   "source": [
    "### Dummy Classifier - Majority Class"
   ]
  },
  {
   "cell_type": "code",
   "execution_count": 55,
   "metadata": {},
   "outputs": [],
   "source": [
    "#look at distribution of labels in the class\n",
    "labels = np.unique(encodedLabels)\n",
    "\n",
    "#count labels\n",
    "labelCount = list()\n",
    "for label in labels:\n",
    "    #count how many times a specific label occurs in the entire label set\n",
    "    count = np.sum(np.equal(label,encodedLabels))\n",
    "    labelCount.append(count)\n",
    "\n",
    "#create dataframe to examine\n",
    "labelInfoDf = pd.DataFrame({\"raw label\":np.unique(df['contam_code']), \"encoded label\": labels, \"count\":labelCount})"
   ]
  },
  {
   "cell_type": "code",
   "execution_count": 60,
   "metadata": {},
   "outputs": [
    {
     "name": "stdout",
     "output_type": "stream",
     "text": [
      "0.8896750524109015\n"
     ]
    }
   ],
   "source": [
    "#if you pick label c the entire time what is the accuracy \n",
    "acc = labelInfoDf['count'][2]/np.sum(labelInfoDf['count'])\n",
    "print(acc)\n",
    "\n",
    "#accuarcy is high but this does not mean there is a signal"
   ]
  },
  {
   "cell_type": "markdown",
   "metadata": {},
   "source": [
    "### Obscured B "
   ]
  },
  {
   "cell_type": "markdown",
   "metadata": {},
   "source": [
    "#### Decision Tree - Accuracy vs Dummy Classifier"
   ]
  },
  {
   "cell_type": "code",
   "execution_count": 69,
   "metadata": {},
   "outputs": [],
   "source": [
    "data = loadarff(\"Data\\\\obscuredB.arff\")\n",
    "df = pd.DataFrame(data[0])\n",
    "\n",
    "#iterate through each column and convert the bytes to string\n",
    "columns = list(df.columns)\n",
    "for colName in columns:\n",
    "    df[colName] = df[colName].str.decode(\"utf-8\")\n",
    "    "
   ]
  },
  {
   "cell_type": "code",
   "execution_count": 70,
   "metadata": {},
   "outputs": [],
   "source": [
    "#create features and labels\n",
    "labels = df['contam_code']\n",
    "features = df.drop(\"contam_code\", axis=1)"
   ]
  },
  {
   "cell_type": "code",
   "execution_count": 71,
   "metadata": {},
   "outputs": [],
   "source": [
    "#encode features and labels as integers\n",
    "oe = OrdinalEncoder()\n",
    "encodedFeatures = oe.fit_transform(features)\n",
    "\n",
    "lbe = LabelEncoder()\n",
    "encodedLabels = lbe.fit_transform(labels)"
   ]
  },
  {
   "cell_type": "code",
   "execution_count": 72,
   "metadata": {},
   "outputs": [],
   "source": [
    "#create decision tree \n",
    "clf = DecisionTreeClassifier()"
   ]
  },
  {
   "cell_type": "code",
   "execution_count": 77,
   "metadata": {},
   "outputs": [
    {
     "name": "stderr",
     "output_type": "stream",
     "text": [
      "C:\\Users\\hcheena\\AppData\\Roaming\\Python\\Python37\\site-packages\\sklearn\\model_selection\\_split.py:667: UserWarning: The least populated class in y has only 1 members, which is less than n_splits=10.\n",
      "  % (min_groups, self.n_splits)), UserWarning)\n"
     ]
    }
   ],
   "source": [
    "acc = cross_val_score(clf, encodedFeatures, encodedLabels, cv=10, n_jobs=-1)"
   ]
  },
  {
   "cell_type": "code",
   "execution_count": 78,
   "metadata": {},
   "outputs": [
    {
     "data": {
      "text/plain": [
       "array([0.8865304 , 0.88574423, 0.88731656, 0.88679245, 0.88574423,\n",
       "       0.88443396, 0.88495807, 0.88574423, 0.88600629, 0.88548218])"
      ]
     },
     "execution_count": 78,
     "metadata": {},
     "output_type": "execute_result"
    }
   ],
   "source": [
    "acc"
   ]
  },
  {
   "cell_type": "markdown",
   "metadata": {},
   "source": [
    "#### Confusion Matrix"
   ]
  },
  {
   "cell_type": "code",
   "execution_count": null,
   "metadata": {},
   "outputs": [],
   "source": []
  },
  {
   "cell_type": "code",
   "execution_count": null,
   "metadata": {},
   "outputs": [],
   "source": []
  },
  {
   "cell_type": "code",
   "execution_count": null,
   "metadata": {},
   "outputs": [],
   "source": []
  }
 ],
 "metadata": {
  "kernelspec": {
   "display_name": "Python 3",
   "language": "python",
   "name": "python3"
  },
  "language_info": {
   "codemirror_mode": {
    "name": "ipython",
    "version": 3
   },
   "file_extension": ".py",
   "mimetype": "text/x-python",
   "name": "python",
   "nbconvert_exporter": "python",
   "pygments_lexer": "ipython3",
   "version": "3.7.6"
  }
 },
 "nbformat": 4,
 "nbformat_minor": 4
}
