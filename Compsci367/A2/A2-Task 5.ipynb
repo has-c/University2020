{
 "metadata": {
  "language_info": {
   "codemirror_mode": {
    "name": "ipython",
    "version": 3
   },
   "file_extension": ".py",
   "mimetype": "text/x-python",
   "name": "python",
   "nbconvert_exporter": "python",
   "pygments_lexer": "ipython3",
   "version": "3.8.2-final"
  },
  "orig_nbformat": 2,
  "kernelspec": {
   "name": "python_defaultSpec_1600122223307",
   "display_name": "Python 3.8.2 64-bit"
  }
 },
 "nbformat": 4,
 "nbformat_minor": 2,
 "cells": [
  {
   "cell_type": "code",
   "execution_count": 1,
   "metadata": {},
   "outputs": [],
   "source": [
    "from hill_climbing import hill_climbing_instrumented, hill_climbing_sideways, hill_climbing_random_restart,NQueensProblem\n",
    "from random import seed\n",
    "import pandas as pd\n",
    "import time\n",
    "\n",
    "seed(376)"
   ]
  },
  {
   "cell_type": "code",
   "execution_count": 19,
   "metadata": {},
   "outputs": [],
   "source": [
    "#problem config parameters\n",
    "series_of_queens = range(10,13)\n",
    "max_number_sideways_moves = 150\n",
    "max_number_restarts = 30\n",
    "number_of_games = 500"
   ]
  },
  {
   "cell_type": "code",
   "execution_count": 20,
   "metadata": {},
   "outputs": [],
   "source": [
    "overall_results_df = pd.DataFrame([])\n",
    "series_of_queens = range(8,11)\n",
    "\n",
    "\n",
    "for number_of_queens in series_of_queens:\n",
    "\n",
    "    results_df = pd.DataFrame([])\n",
    "    problem = NQueensProblem(number_of_queens)\n",
    "\n",
    "    for _ in range(0,500):\n",
    "        problem.initial = problem.random_state()\n",
    "\n",
    "        #use hill climbing\n",
    "        t0 = time.time()\n",
    "        output_vanilla = hill_climbing_instrumented(problem)\n",
    "        t1 = time.time()\n",
    "        elapsed_time = t1-t0\n",
    "        output_vanilla['type'] = 'hill climbing'\n",
    "        output_vanilla['elapsed_time'] = elapsed_time\n",
    "        output_vanilla.pop('best_state')\n",
    "\n",
    "        #use sideways hillclimbing \n",
    "        t0 = time.time()\n",
    "        output_sideways = hill_climbing_sideways(problem, max_number_sideways_moves)\n",
    "        t1 = time.time()\n",
    "        elapsed_time = t1-t0\n",
    "        output_sideways['type'] = 'hill climbing with sideways moves'\n",
    "        output_sideways['elapsed_time'] = elapsed_time\n",
    "        output_sideways.pop('best_state')\n",
    "        output_sideways.pop('sideways_moves')\n",
    "\n",
    "        #use random restart hillclimbing\n",
    "        t0 = time.time()\n",
    "        output_rr = hill_climbing_random_restart(problem, max_number_restarts)\n",
    "        t1 = time.time()\n",
    "        elapsed_time = t1-t0\n",
    "        output_rr['type'] = 'random restart hill climbing'\n",
    "        output_rr['elapsed_time'] = elapsed_time\n",
    "        output_rr.pop('best_state')\n",
    "        output_rr.pop('restarts')\n",
    "\n",
    "        results_df = results_df.append(pd.DataFrame(output_vanilla,index=range(1)), ignore_index=True, sort=False)\n",
    "        results_df = results_df.append(pd.DataFrame(output_sideways,index=range(1)), ignore_index=True, sort=False)\n",
    "        results_df = results_df.append(pd.DataFrame(output_rr,index=range(1)), ignore_index=True, sort=False)\n",
    "\n",
    "    results_df['NoQueens'] = number_of_queens\n",
    "    overall_results_df = overall_results_df.append(results_df, ignore_index = True, sort=False)"
   ]
  },
  {
   "cell_type": "code",
   "execution_count": 21,
   "metadata": {},
   "outputs": [],
   "source": [
    "overall_results_df.to_csv(\"results-task-5.csv\", index=False)"
   ]
  },
  {
   "cell_type": "code",
   "execution_count": null,
   "metadata": {},
   "outputs": [],
   "source": []
  }
 ]
}