{
 "cells": [
  {
   "cell_type": "code",
   "execution_count": 65,
   "metadata": {},
   "outputs": [],
   "source": [
    "from instrumented_solvers import *\n",
    "from test import get_assignment_problems, get_assignment_results, get_solvers, get_test_results\n",
    "\n",
    "import numpy as np\n",
    "import pandas as pd"
   ]
  },
  {
   "cell_type": "code",
   "execution_count": 27,
   "metadata": {},
   "outputs": [
    {
     "name": "stdout",
     "output_type": "stream",
     "text": [
      "(min_conflicts_instrumented, max_steps=1000)(australia_map)\n",
      "(min_conflicts_instrumented, max_steps=1000)(france_map)\n",
      "(min_conflicts_instrumented, max_steps=1000)(zebra)\n",
      "(min_conflicts_instrumented, max_steps=1000)(5 queens)\n",
      "(min_conflicts_instrumented, max_steps=1000)(7 queens)\n",
      "(min_conflicts_instrumented, max_steps=1000)(9 queens)\n",
      "(min_conflicts_instrumented, max_steps=1000)(11 queens)\n",
      "(min_conflicts_instrumented, max_steps=1000)(13 queens)\n",
      "(backtracking_search_instrumented, select_unassigned_variable=first_unassigned_variable, order_domain_values=unordered_domain_values, inference=no_inference, max_steps=1000)(australia_map)\n",
      "(backtracking_search_instrumented, select_unassigned_variable=first_unassigned_variable, order_domain_values=unordered_domain_values, inference=no_inference, max_steps=1000)(france_map)\n",
      "(backtracking_search_instrumented, select_unassigned_variable=first_unassigned_variable, order_domain_values=unordered_domain_values, inference=no_inference, max_steps=1000)(zebra)\n",
      "(backtracking_search_instrumented, select_unassigned_variable=first_unassigned_variable, order_domain_values=unordered_domain_values, inference=no_inference, max_steps=1000)(5 queens)\n",
      "(backtracking_search_instrumented, select_unassigned_variable=first_unassigned_variable, order_domain_values=unordered_domain_values, inference=no_inference, max_steps=1000)(7 queens)\n",
      "(backtracking_search_instrumented, select_unassigned_variable=first_unassigned_variable, order_domain_values=unordered_domain_values, inference=no_inference, max_steps=1000)(9 queens)\n",
      "(backtracking_search_instrumented, select_unassigned_variable=first_unassigned_variable, order_domain_values=unordered_domain_values, inference=no_inference, max_steps=1000)(11 queens)\n",
      "(backtracking_search_instrumented, select_unassigned_variable=first_unassigned_variable, order_domain_values=unordered_domain_values, inference=no_inference, max_steps=1000)(13 queens)\n",
      "(backtracking_search_instrumented, select_unassigned_variable=first_unassigned_variable, order_domain_values=unordered_domain_values, inference=forward_checking, max_steps=1000)(australia_map)\n",
      "(backtracking_search_instrumented, select_unassigned_variable=first_unassigned_variable, order_domain_values=unordered_domain_values, inference=forward_checking, max_steps=1000)(france_map)\n",
      "(backtracking_search_instrumented, select_unassigned_variable=first_unassigned_variable, order_domain_values=unordered_domain_values, inference=forward_checking, max_steps=1000)(zebra)\n",
      "(backtracking_search_instrumented, select_unassigned_variable=first_unassigned_variable, order_domain_values=unordered_domain_values, inference=forward_checking, max_steps=1000)(5 queens)\n",
      "(backtracking_search_instrumented, select_unassigned_variable=first_unassigned_variable, order_domain_values=unordered_domain_values, inference=forward_checking, max_steps=1000)(7 queens)\n",
      "(backtracking_search_instrumented, select_unassigned_variable=first_unassigned_variable, order_domain_values=unordered_domain_values, inference=forward_checking, max_steps=1000)(9 queens)\n",
      "(backtracking_search_instrumented, select_unassigned_variable=first_unassigned_variable, order_domain_values=unordered_domain_values, inference=forward_checking, max_steps=1000)(11 queens)\n",
      "(backtracking_search_instrumented, select_unassigned_variable=first_unassigned_variable, order_domain_values=unordered_domain_values, inference=forward_checking, max_steps=1000)(13 queens)\n",
      "(backtracking_search_instrumented, select_unassigned_variable=first_unassigned_variable, order_domain_values=unordered_domain_values, inference=mac, max_steps=1000)(australia_map)\n",
      "(backtracking_search_instrumented, select_unassigned_variable=first_unassigned_variable, order_domain_values=unordered_domain_values, inference=mac, max_steps=1000)(france_map)\n",
      "(backtracking_search_instrumented, select_unassigned_variable=first_unassigned_variable, order_domain_values=unordered_domain_values, inference=mac, max_steps=1000)(zebra)\n",
      "(backtracking_search_instrumented, select_unassigned_variable=first_unassigned_variable, order_domain_values=unordered_domain_values, inference=mac, max_steps=1000)(5 queens)\n",
      "(backtracking_search_instrumented, select_unassigned_variable=first_unassigned_variable, order_domain_values=unordered_domain_values, inference=mac, max_steps=1000)(7 queens)\n",
      "(backtracking_search_instrumented, select_unassigned_variable=first_unassigned_variable, order_domain_values=unordered_domain_values, inference=mac, max_steps=1000)(9 queens)\n",
      "(backtracking_search_instrumented, select_unassigned_variable=first_unassigned_variable, order_domain_values=unordered_domain_values, inference=mac, max_steps=1000)(11 queens)\n",
      "(backtracking_search_instrumented, select_unassigned_variable=first_unassigned_variable, order_domain_values=unordered_domain_values, inference=mac, max_steps=1000)(13 queens)\n",
      "(backtracking_search_instrumented, select_unassigned_variable=mrv, order_domain_values=lcv, inference=no_inference, max_steps=1000)(australia_map)\n",
      "(backtracking_search_instrumented, select_unassigned_variable=mrv, order_domain_values=lcv, inference=no_inference, max_steps=1000)(france_map)\n",
      "(backtracking_search_instrumented, select_unassigned_variable=mrv, order_domain_values=lcv, inference=no_inference, max_steps=1000)(zebra)\n",
      "(backtracking_search_instrumented, select_unassigned_variable=mrv, order_domain_values=lcv, inference=no_inference, max_steps=1000)(5 queens)\n",
      "(backtracking_search_instrumented, select_unassigned_variable=mrv, order_domain_values=lcv, inference=no_inference, max_steps=1000)(7 queens)\n",
      "(backtracking_search_instrumented, select_unassigned_variable=mrv, order_domain_values=lcv, inference=no_inference, max_steps=1000)(9 queens)\n",
      "(backtracking_search_instrumented, select_unassigned_variable=mrv, order_domain_values=lcv, inference=no_inference, max_steps=1000)(11 queens)\n",
      "(backtracking_search_instrumented, select_unassigned_variable=mrv, order_domain_values=lcv, inference=no_inference, max_steps=1000)(13 queens)\n",
      "(backtracking_search_instrumented, select_unassigned_variable=mrv, order_domain_values=lcv, inference=mac, max_steps=1000)(australia_map)\n",
      "(backtracking_search_instrumented, select_unassigned_variable=mrv, order_domain_values=lcv, inference=mac, max_steps=1000)(france_map)\n",
      "(backtracking_search_instrumented, select_unassigned_variable=mrv, order_domain_values=lcv, inference=mac, max_steps=1000)(zebra)\n",
      "(backtracking_search_instrumented, select_unassigned_variable=mrv, order_domain_values=lcv, inference=mac, max_steps=1000)(5 queens)\n",
      "(backtracking_search_instrumented, select_unassigned_variable=mrv, order_domain_values=lcv, inference=mac, max_steps=1000)(7 queens)\n",
      "(backtracking_search_instrumented, select_unassigned_variable=mrv, order_domain_values=lcv, inference=mac, max_steps=1000)(9 queens)\n",
      "(backtracking_search_instrumented, select_unassigned_variable=mrv, order_domain_values=lcv, inference=mac, max_steps=1000)(11 queens)\n",
      "(backtracking_search_instrumented, select_unassigned_variable=mrv, order_domain_values=lcv, inference=mac, max_steps=1000)(13 queens)\n"
     ]
    }
   ],
   "source": [
    "setting_problem_stats_dict = get_test_results()"
   ]
  },
  {
   "cell_type": "code",
   "execution_count": 67,
   "metadata": {},
   "outputs": [],
   "source": [
    "#create results table\n",
    "\n",
    "no_iter = 10\n",
    "\n",
    "backtrack_results_df = pd.DataFrame([])\n",
    "min_conflicts_results_df = pd.DataFrame([])\n",
    "\n",
    "algo_parms = list(setting_problem_stats_dict.keys()) #primary keys\n",
    "for setting in algo_parms:\n",
    "    \n",
    "    #figure out what solver you are using \n",
    "    solver = setting.split(\",\")[0][1:]\n",
    "    results_per_problem = setting_problem_stats_dict[setting]\n",
    "    problems = list(results_per_problem.keys()) #second level keys\n",
    "    \n",
    "    for problem in problems:\n",
    "        results = results_per_problem[problem]\n",
    "        stats = list(results.keys()) #third level keys\n",
    "        \n",
    "        for stat in stats:\n",
    "            result_all_iter = results[stat]\n",
    "                \n",
    "            if stat == \"assignment\":\n",
    "                solutions_found = np.array([not(result is None) for result in result_all_iter])\n",
    "                prob_of_sucess = (np.sum(solutions_found)/10) * 100\n",
    "\n",
    "            elif stat == \"num_assignments\":\n",
    "                avg_num_assignments = np.mean(result_all_iter)\n",
    "                sd_num_assignments = np.std(result_all_iter)\n",
    "\n",
    "            else: #number of repair assignments or backtracks depending on solver\n",
    "\n",
    "                if solver == 'min_conflicts_instrumented':\n",
    "                    avg_repair_assignments = np.mean(result_all_iter)\n",
    "                    sd_repair_assignments = np.std(result_all_iter)\n",
    "                else:\n",
    "                    avg_backtracks = np.mean(result_all_iter)\n",
    "                    sd_backtracks = np.std(result_all_iter)\n",
    "                    \n",
    "        #once finished computing stats assign to correct dataframe\n",
    "        if solver == 'min_conflicts_instrumented':\n",
    "            row = pd.DataFrame({\"problem\":problem, \n",
    "                               \"avg assignments\": avg_num_assignments,\n",
    "                               \"sd assignments\": sd_num_assignments,\n",
    "                               \"avg repair\": avg_repair_assignments,\n",
    "                               \"sd repair\":sd_repair_assignments,\n",
    "                               \"prob sucess\": prob_of_sucess}, index=range(1))\n",
    "            min_conflicts_results_df = min_conflicts_results_df.append(row, ignore_index=True)\n",
    "        else:\n",
    "            row = pd.DataFrame({\"problem\":problem, \n",
    "                   \"avg assignments\": avg_num_assignments,\n",
    "                   \"sd assignments\": sd_num_assignments,\n",
    "                   \"avg backtracks\": avg_backtracks,\n",
    "                   \"sd backtracks\":sd_backtracks,\n",
    "                    \"prob sucess\": prob_of_sucess}, range(1))\n",
    "            backtrack_results_df = backtrack_results_df.append(row, ignore_index=True)\n",
    "                \n",
    "                          \n",
    "        \n",
    "    "
   ]
  },
  {
   "cell_type": "code",
   "execution_count": 74,
   "metadata": {},
   "outputs": [],
   "source": [
    "#combine outputs\n",
    "results_df = backtrack_results_df.append(min_conflicts_results_df, ignore_index=True)"
   ]
  },
  {
   "cell_type": "code",
   "execution_count": null,
   "metadata": {},
   "outputs": [],
   "source": []
  }
 ],
 "metadata": {
  "kernelspec": {
   "display_name": "Python 3",
   "language": "python",
   "name": "python3"
  },
  "language_info": {
   "codemirror_mode": {
    "name": "ipython",
    "version": 3
   },
   "file_extension": ".py",
   "mimetype": "text/x-python",
   "name": "python",
   "nbconvert_exporter": "python",
   "pygments_lexer": "ipython3",
   "version": "3.8.2"
  }
 },
 "nbformat": 4,
 "nbformat_minor": 4
}
